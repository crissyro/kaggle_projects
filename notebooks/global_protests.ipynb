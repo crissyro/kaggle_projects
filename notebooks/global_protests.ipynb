{
 "cells": [
  {
   "cell_type": "markdown",
   "metadata": {},
   "source": [
    "# Global Protests from 1990 to March 2020 analysis"
   ]
  },
  {
   "cell_type": "code",
   "execution_count": 134,
   "metadata": {},
   "outputs": [],
   "source": [
    "# import kagglehub\n",
    "\n",
    "# Download latest version\n",
    "# path = kagglehub.dataset_download(\"mysterymeatie/protests-from-1990-to-march-2020\")\n",
    "\n",
    "# print(\"Path to dataset files:\", path)"
   ]
  },
  {
   "cell_type": "code",
   "execution_count": 135,
   "metadata": {},
   "outputs": [
    {
     "data": {
      "text/html": [
       "        <script type=\"text/javascript\">\n",
       "        window.PlotlyConfig = {MathJaxConfig: 'local'};\n",
       "        if (window.MathJax && window.MathJax.Hub && window.MathJax.Hub.Config) {window.MathJax.Hub.Config({SVG: {font: \"STIX-Web\"}});}\n",
       "        if (typeof require !== 'undefined') {\n",
       "        require.undef(\"plotly\");\n",
       "        requirejs.config({\n",
       "            paths: {\n",
       "                'plotly': ['https://cdn.plot.ly/plotly-2.35.2.min']\n",
       "            }\n",
       "        });\n",
       "        require(['plotly'], function(Plotly) {\n",
       "            window._Plotly = Plotly;\n",
       "        });\n",
       "        }\n",
       "        </script>\n",
       "        "
      ]
     },
     "metadata": {},
     "output_type": "display_data"
    }
   ],
   "source": [
    "import pandas as pd\n",
    "import numpy as np\n",
    "import matplotlib.pyplot as plt\n",
    "import seaborn as sns \n",
    "import plotly.express as px\n",
    "import plotly.graph_objects as go\n",
    "from plotly.offline import init_notebook_mode, iplot \n",
    "import warnings\n",
    "\n",
    "init_notebook_mode(connected=True)\n",
    "warnings.filterwarnings('ignore')\n",
    "plt.style.use('seaborn-v0_8-pastel')\n",
    "sns.set_theme(style='whitegrid')"
   ]
  },
  {
   "cell_type": "code",
   "execution_count": 136,
   "metadata": {},
   "outputs": [
    {
     "name": "stdout",
     "output_type": "stream",
     "text": [
      "(12652, 25)\n"
     ]
    },
    {
     "data": {
      "text/html": [
       "<div>\n",
       "<style scoped>\n",
       "    .dataframe tbody tr th:only-of-type {\n",
       "        vertical-align: middle;\n",
       "    }\n",
       "\n",
       "    .dataframe tbody tr th {\n",
       "        vertical-align: top;\n",
       "    }\n",
       "\n",
       "    .dataframe thead th {\n",
       "        text-align: right;\n",
       "    }\n",
       "</style>\n",
       "<table border=\"1\" class=\"dataframe\">\n",
       "  <thead>\n",
       "    <tr style=\"text-align: right;\">\n",
       "      <th></th>\n",
       "      <th>id</th>\n",
       "      <th>Country</th>\n",
       "      <th>Year</th>\n",
       "      <th>region</th>\n",
       "      <th>protest</th>\n",
       "      <th>protesterviolence</th>\n",
       "      <th>protesterdemand1</th>\n",
       "      <th>protesterdemand2</th>\n",
       "      <th>protesterdemand3</th>\n",
       "      <th>protesterdemand4</th>\n",
       "      <th>...</th>\n",
       "      <th>stateresponse6</th>\n",
       "      <th>stateresponse7</th>\n",
       "      <th>Electoral_Score</th>\n",
       "      <th>Liberal_Score</th>\n",
       "      <th>Participatory_Score</th>\n",
       "      <th>Deliberative_Score</th>\n",
       "      <th>Egalitarian_Score</th>\n",
       "      <th>HDI_Score</th>\n",
       "      <th>violenceStatus</th>\n",
       "      <th>predicted_prob</th>\n",
       "    </tr>\n",
       "  </thead>\n",
       "  <tbody>\n",
       "    <tr>\n",
       "      <th>0</th>\n",
       "      <td>201990001</td>\n",
       "      <td>Canada</td>\n",
       "      <td>1990</td>\n",
       "      <td>North America</td>\n",
       "      <td>1</td>\n",
       "      <td>0</td>\n",
       "      <td>political behavior, process</td>\n",
       "      <td>labor wage dispute</td>\n",
       "      <td>NaN</td>\n",
       "      <td>NaN</td>\n",
       "      <td>...</td>\n",
       "      <td>NaN</td>\n",
       "      <td>NaN</td>\n",
       "      <td>0.834</td>\n",
       "      <td>0.759</td>\n",
       "      <td>0.58</td>\n",
       "      <td>0.756</td>\n",
       "      <td>0.719</td>\n",
       "      <td>0.85</td>\n",
       "      <td>0</td>\n",
       "      <td>0.299385</td>\n",
       "    </tr>\n",
       "    <tr>\n",
       "      <th>1</th>\n",
       "      <td>201990002</td>\n",
       "      <td>Canada</td>\n",
       "      <td>1990</td>\n",
       "      <td>North America</td>\n",
       "      <td>1</td>\n",
       "      <td>0</td>\n",
       "      <td>political behavior, process</td>\n",
       "      <td>NaN</td>\n",
       "      <td>NaN</td>\n",
       "      <td>NaN</td>\n",
       "      <td>...</td>\n",
       "      <td>NaN</td>\n",
       "      <td>NaN</td>\n",
       "      <td>0.834</td>\n",
       "      <td>0.759</td>\n",
       "      <td>0.58</td>\n",
       "      <td>0.756</td>\n",
       "      <td>0.719</td>\n",
       "      <td>0.85</td>\n",
       "      <td>0</td>\n",
       "      <td>0.299385</td>\n",
       "    </tr>\n",
       "    <tr>\n",
       "      <th>2</th>\n",
       "      <td>201990003</td>\n",
       "      <td>Canada</td>\n",
       "      <td>1990</td>\n",
       "      <td>North America</td>\n",
       "      <td>1</td>\n",
       "      <td>0</td>\n",
       "      <td>political behavior, process</td>\n",
       "      <td>NaN</td>\n",
       "      <td>NaN</td>\n",
       "      <td>NaN</td>\n",
       "      <td>...</td>\n",
       "      <td>NaN</td>\n",
       "      <td>NaN</td>\n",
       "      <td>0.834</td>\n",
       "      <td>0.759</td>\n",
       "      <td>0.58</td>\n",
       "      <td>0.756</td>\n",
       "      <td>0.719</td>\n",
       "      <td>0.85</td>\n",
       "      <td>0</td>\n",
       "      <td>0.299385</td>\n",
       "    </tr>\n",
       "    <tr>\n",
       "      <th>3</th>\n",
       "      <td>201990004</td>\n",
       "      <td>Canada</td>\n",
       "      <td>1990</td>\n",
       "      <td>North America</td>\n",
       "      <td>1</td>\n",
       "      <td>1</td>\n",
       "      <td>land farm issue</td>\n",
       "      <td>NaN</td>\n",
       "      <td>NaN</td>\n",
       "      <td>NaN</td>\n",
       "      <td>...</td>\n",
       "      <td>NaN</td>\n",
       "      <td>NaN</td>\n",
       "      <td>0.834</td>\n",
       "      <td>0.759</td>\n",
       "      <td>0.58</td>\n",
       "      <td>0.756</td>\n",
       "      <td>0.719</td>\n",
       "      <td>0.85</td>\n",
       "      <td>1</td>\n",
       "      <td>0.299385</td>\n",
       "    </tr>\n",
       "    <tr>\n",
       "      <th>4</th>\n",
       "      <td>201990005</td>\n",
       "      <td>Canada</td>\n",
       "      <td>1990</td>\n",
       "      <td>North America</td>\n",
       "      <td>1</td>\n",
       "      <td>1</td>\n",
       "      <td>political behavior, process</td>\n",
       "      <td>NaN</td>\n",
       "      <td>NaN</td>\n",
       "      <td>NaN</td>\n",
       "      <td>...</td>\n",
       "      <td>NaN</td>\n",
       "      <td>NaN</td>\n",
       "      <td>0.834</td>\n",
       "      <td>0.759</td>\n",
       "      <td>0.58</td>\n",
       "      <td>0.756</td>\n",
       "      <td>0.719</td>\n",
       "      <td>0.85</td>\n",
       "      <td>1</td>\n",
       "      <td>0.299385</td>\n",
       "    </tr>\n",
       "  </tbody>\n",
       "</table>\n",
       "<p>5 rows × 25 columns</p>\n",
       "</div>"
      ],
      "text/plain": [
       "          id Country  Year         region  protest  protesterviolence  \\\n",
       "0  201990001  Canada  1990  North America        1                  0   \n",
       "1  201990002  Canada  1990  North America        1                  0   \n",
       "2  201990003  Canada  1990  North America        1                  0   \n",
       "3  201990004  Canada  1990  North America        1                  1   \n",
       "4  201990005  Canada  1990  North America        1                  1   \n",
       "\n",
       "              protesterdemand1    protesterdemand2 protesterdemand3  \\\n",
       "0  political behavior, process  labor wage dispute              NaN   \n",
       "1  political behavior, process                 NaN              NaN   \n",
       "2  political behavior, process                 NaN              NaN   \n",
       "3              land farm issue                 NaN              NaN   \n",
       "4  political behavior, process                 NaN              NaN   \n",
       "\n",
       "  protesterdemand4  ... stateresponse6 stateresponse7 Electoral_Score  \\\n",
       "0              NaN  ...            NaN            NaN           0.834   \n",
       "1              NaN  ...            NaN            NaN           0.834   \n",
       "2              NaN  ...            NaN            NaN           0.834   \n",
       "3              NaN  ...            NaN            NaN           0.834   \n",
       "4              NaN  ...            NaN            NaN           0.834   \n",
       "\n",
       "  Liberal_Score Participatory_Score Deliberative_Score Egalitarian_Score  \\\n",
       "0         0.759                0.58              0.756             0.719   \n",
       "1         0.759                0.58              0.756             0.719   \n",
       "2         0.759                0.58              0.756             0.719   \n",
       "3         0.759                0.58              0.756             0.719   \n",
       "4         0.759                0.58              0.756             0.719   \n",
       "\n",
       "   HDI_Score  violenceStatus  predicted_prob  \n",
       "0       0.85               0        0.299385  \n",
       "1       0.85               0        0.299385  \n",
       "2       0.85               0        0.299385  \n",
       "3       0.85               1        0.299385  \n",
       "4       0.85               1        0.299385  \n",
       "\n",
       "[5 rows x 25 columns]"
      ]
     },
     "execution_count": 136,
     "metadata": {},
     "output_type": "execute_result"
    }
   ],
   "source": [
    "df = pd.read_csv('data/global_protests.csv', sep=',')\n",
    "print(df.shape)\n",
    "df.head()"
   ]
  },
  {
   "cell_type": "markdown",
   "metadata": {},
   "source": [
    "## Dataset Card:\n",
    "\n",
    "1. id: Unique ID for each protest event\n",
    "\n",
    "2. Country: Country that the protest occurred in\n",
    "\n",
    "3. Year: Year that the protest occurred in\n",
    "\n",
    "4. region: Continent that the protest occurred in\n",
    "\n",
    "5. protest: Whether or not this event was a protest (value = 1 for all).\n",
    "\n",
    "6. protesterviolence: Whether or not protesters engaged in violence (The violence\n",
    "could include anything from riotous behavior that destroys property to shooting at the police or military.)\n",
    "\n",
    "7. protesterdemand1: A slot for protesters' demand to be coded (view Mass Mobilization codebook for explanation)\n",
    "\n",
    "8. protesterdemand2: See above\n",
    "\n",
    "9. protesterdemand3: See above\n",
    "\n",
    "10. protesterdemand4: See above\n",
    "\n",
    "11. stateresponse1: A slot for state's response to be coded (view Mass Mobilization codebook for explanation)\n",
    "\n",
    "12. stateresponse2: See above\n",
    "\n",
    "13. stateresponse3: See above\n",
    "\n",
    "14. stateresponse4: See above\n",
    "\n",
    "15. stateresponse5: See above\n",
    "\n",
    "16. stateresponse6: See above\n",
    "\n",
    "17. stateresponse7: See above\n",
    "\n",
    "18. Electoral_Score: A score of democracy in the electoral aspect for the country and year specific to the protest event\n",
    "\n",
    "19. Liberal_Score: A score of democracy in the electoral aspect for the country and year specific to the protest event\n",
    "\n",
    "20. Participatory_Score: A score of democracy in the electoral aspect for the country and year specific to the protest event\n",
    "\n",
    "21. Deliberative_Score: A score of democracy in the electoral aspect for the country and year specific to the protest event\n",
    "\n",
    "22. Egalitarian_Score: A score of democracy in the electoral aspect for the country and year specific to the protest event\n",
    "\n",
    "23. HDI_Score: Human Development Index score for the country and year specific to the protest event\n",
    "violenceStatus: Whether or not the protest was violent.\n",
    "\n",
    "* (For violentStatus = 1 [protest was violent], protesterviolence == 1 OR any of stateresponse1-7 coded ['arrests', 'beatings', crowd dispersal', 'shootings', 'killings'])\n",
    "\n",
    "* (For violentStatus = 0 [protest was nonviolent], protesterviolence == 0 AND NONE of stateresponse1-7 can be coded ['arrests', 'beatings', crowd dispersal', 'shootings', 'killings'])\n",
    "\n",
    "24. predicted_prob: Probability of the protest being successful or not produced by logistic regression model trained on the 5 democracy scores and HDI score. Successful == 'accomodation' in ANY of stateresponse1-7 columns."
   ]
  },
  {
   "cell_type": "code",
   "execution_count": 137,
   "metadata": {},
   "outputs": [
    {
     "data": {
      "text/plain": [
       "id                         0\n",
       "Country                    0\n",
       "Year                       0\n",
       "region                     0\n",
       "protest                    0\n",
       "protesterviolence          0\n",
       "protesterdemand1           1\n",
       "protesterdemand2       10091\n",
       "protesterdemand3       12317\n",
       "protesterdemand4       12011\n",
       "stateresponse1            23\n",
       "stateresponse2         10280\n",
       "stateresponse3         11896\n",
       "stateresponse4         12453\n",
       "stateresponse5         11995\n",
       "stateresponse6         12639\n",
       "stateresponse7         11893\n",
       "Electoral_Score            0\n",
       "Liberal_Score              0\n",
       "Participatory_Score        0\n",
       "Deliberative_Score         0\n",
       "Egalitarian_Score          0\n",
       "HDI_Score                216\n",
       "violenceStatus             0\n",
       "predicted_prob           216\n",
       "dtype: int64"
      ]
     },
     "execution_count": 137,
     "metadata": {},
     "output_type": "execute_result"
    }
   ],
   "source": [
    "df.isnull().sum()"
   ]
  },
  {
   "cell_type": "code",
   "execution_count": 138,
   "metadata": {},
   "outputs": [
    {
     "name": "stdout",
     "output_type": "stream",
     "text": [
      "<class 'pandas.core.frame.DataFrame'>\n",
      "RangeIndex: 12652 entries, 0 to 12651\n",
      "Data columns (total 25 columns):\n",
      " #   Column               Non-Null Count  Dtype  \n",
      "---  ------               --------------  -----  \n",
      " 0   id                   12652 non-null  int64  \n",
      " 1   Country              12652 non-null  object \n",
      " 2   Year                 12652 non-null  int64  \n",
      " 3   region               12652 non-null  object \n",
      " 4   protest              12652 non-null  int64  \n",
      " 5   protesterviolence    12652 non-null  int64  \n",
      " 6   protesterdemand1     12651 non-null  object \n",
      " 7   protesterdemand2     2561 non-null   object \n",
      " 8   protesterdemand3     335 non-null    object \n",
      " 9   protesterdemand4     641 non-null    object \n",
      " 10  stateresponse1       12629 non-null  object \n",
      " 11  stateresponse2       2372 non-null   object \n",
      " 12  stateresponse3       756 non-null    object \n",
      " 13  stateresponse4       199 non-null    object \n",
      " 14  stateresponse5       657 non-null    object \n",
      " 15  stateresponse6       13 non-null     object \n",
      " 16  stateresponse7       759 non-null    object \n",
      " 17  Electoral_Score      12652 non-null  float64\n",
      " 18  Liberal_Score        12652 non-null  float64\n",
      " 19  Participatory_Score  12652 non-null  float64\n",
      " 20  Deliberative_Score   12652 non-null  float64\n",
      " 21  Egalitarian_Score    12652 non-null  float64\n",
      " 22  HDI_Score            12436 non-null  float64\n",
      " 23  violenceStatus       12652 non-null  int64  \n",
      " 24  predicted_prob       12436 non-null  float64\n",
      "dtypes: float64(7), int64(5), object(13)\n",
      "memory usage: 2.4+ MB\n"
     ]
    }
   ],
   "source": [
    "df.info()"
   ]
  },
  {
   "cell_type": "code",
   "execution_count": 139,
   "metadata": {},
   "outputs": [
    {
     "data": {
      "text/html": [
       "<div>\n",
       "<style scoped>\n",
       "    .dataframe tbody tr th:only-of-type {\n",
       "        vertical-align: middle;\n",
       "    }\n",
       "\n",
       "    .dataframe tbody tr th {\n",
       "        vertical-align: top;\n",
       "    }\n",
       "\n",
       "    .dataframe thead th {\n",
       "        text-align: right;\n",
       "    }\n",
       "</style>\n",
       "<table border=\"1\" class=\"dataframe\">\n",
       "  <thead>\n",
       "    <tr style=\"text-align: right;\">\n",
       "      <th></th>\n",
       "      <th>id</th>\n",
       "      <th>Year</th>\n",
       "      <th>protest</th>\n",
       "      <th>protesterviolence</th>\n",
       "      <th>Electoral_Score</th>\n",
       "      <th>Liberal_Score</th>\n",
       "      <th>Participatory_Score</th>\n",
       "      <th>Deliberative_Score</th>\n",
       "      <th>Egalitarian_Score</th>\n",
       "      <th>HDI_Score</th>\n",
       "      <th>violenceStatus</th>\n",
       "      <th>predicted_prob</th>\n",
       "    </tr>\n",
       "  </thead>\n",
       "  <tbody>\n",
       "    <tr>\n",
       "      <th>count</th>\n",
       "      <td>1.265200e+04</td>\n",
       "      <td>12652.000000</td>\n",
       "      <td>12652.0</td>\n",
       "      <td>12652.000000</td>\n",
       "      <td>12652.000000</td>\n",
       "      <td>12652.000000</td>\n",
       "      <td>12652.000000</td>\n",
       "      <td>12652.000000</td>\n",
       "      <td>12652.000000</td>\n",
       "      <td>12436.000000</td>\n",
       "      <td>12652.000000</td>\n",
       "      <td>12436.000000</td>\n",
       "    </tr>\n",
       "    <tr>\n",
       "      <th>mean</th>\n",
       "      <td>4.263609e+09</td>\n",
       "      <td>2006.626620</td>\n",
       "      <td>1.0</td>\n",
       "      <td>0.263990</td>\n",
       "      <td>0.566069</td>\n",
       "      <td>0.446735</td>\n",
       "      <td>0.370286</td>\n",
       "      <td>0.455604</td>\n",
       "      <td>0.420957</td>\n",
       "      <td>0.679471</td>\n",
       "      <td>0.440642</td>\n",
       "      <td>0.439530</td>\n",
       "    </tr>\n",
       "    <tr>\n",
       "      <th>std</th>\n",
       "      <td>2.363909e+09</td>\n",
       "      <td>8.812148</td>\n",
       "      <td>0.0</td>\n",
       "      <td>0.440811</td>\n",
       "      <td>0.251981</td>\n",
       "      <td>0.269327</td>\n",
       "      <td>0.201592</td>\n",
       "      <td>0.251682</td>\n",
       "      <td>0.246582</td>\n",
       "      <td>0.161842</td>\n",
       "      <td>0.496484</td>\n",
       "      <td>0.125796</td>\n",
       "    </tr>\n",
       "    <tr>\n",
       "      <th>min</th>\n",
       "      <td>2.019900e+08</td>\n",
       "      <td>1990.000000</td>\n",
       "      <td>1.0</td>\n",
       "      <td>0.000000</td>\n",
       "      <td>0.014000</td>\n",
       "      <td>0.006000</td>\n",
       "      <td>0.009000</td>\n",
       "      <td>0.006000</td>\n",
       "      <td>0.034000</td>\n",
       "      <td>0.197000</td>\n",
       "      <td>0.000000</td>\n",
       "      <td>0.237938</td>\n",
       "    </tr>\n",
       "    <tr>\n",
       "      <th>25%</th>\n",
       "      <td>2.052018e+09</td>\n",
       "      <td>1999.000000</td>\n",
       "      <td>1.0</td>\n",
       "      <td>0.000000</td>\n",
       "      <td>0.352000</td>\n",
       "      <td>0.211000</td>\n",
       "      <td>0.203000</td>\n",
       "      <td>0.241000</td>\n",
       "      <td>0.213000</td>\n",
       "      <td>0.558000</td>\n",
       "      <td>0.000000</td>\n",
       "      <td>0.309645</td>\n",
       "    </tr>\n",
       "    <tr>\n",
       "      <th>50%</th>\n",
       "      <td>3.732010e+09</td>\n",
       "      <td>2008.000000</td>\n",
       "      <td>1.0</td>\n",
       "      <td>0.000000</td>\n",
       "      <td>0.549000</td>\n",
       "      <td>0.403000</td>\n",
       "      <td>0.346000</td>\n",
       "      <td>0.415000</td>\n",
       "      <td>0.331000</td>\n",
       "      <td>0.694000</td>\n",
       "      <td>0.000000</td>\n",
       "      <td>0.455389</td>\n",
       "    </tr>\n",
       "    <tr>\n",
       "      <th>75%</th>\n",
       "      <td>6.452011e+09</td>\n",
       "      <td>2014.000000</td>\n",
       "      <td>1.0</td>\n",
       "      <td>1.000000</td>\n",
       "      <td>0.843000</td>\n",
       "      <td>0.755000</td>\n",
       "      <td>0.582000</td>\n",
       "      <td>0.727000</td>\n",
       "      <td>0.680000</td>\n",
       "      <td>0.807000</td>\n",
       "      <td>1.000000</td>\n",
       "      <td>0.539201</td>\n",
       "    </tr>\n",
       "    <tr>\n",
       "      <th>max</th>\n",
       "      <td>9.102017e+09</td>\n",
       "      <td>2019.000000</td>\n",
       "      <td>1.0</td>\n",
       "      <td>1.000000</td>\n",
       "      <td>0.922000</td>\n",
       "      <td>0.896000</td>\n",
       "      <td>0.807000</td>\n",
       "      <td>0.886000</td>\n",
       "      <td>0.885000</td>\n",
       "      <td>0.955000</td>\n",
       "      <td>1.000000</td>\n",
       "      <td>0.775399</td>\n",
       "    </tr>\n",
       "  </tbody>\n",
       "</table>\n",
       "</div>"
      ],
      "text/plain": [
       "                 id          Year  protest  protesterviolence  \\\n",
       "count  1.265200e+04  12652.000000  12652.0       12652.000000   \n",
       "mean   4.263609e+09   2006.626620      1.0           0.263990   \n",
       "std    2.363909e+09      8.812148      0.0           0.440811   \n",
       "min    2.019900e+08   1990.000000      1.0           0.000000   \n",
       "25%    2.052018e+09   1999.000000      1.0           0.000000   \n",
       "50%    3.732010e+09   2008.000000      1.0           0.000000   \n",
       "75%    6.452011e+09   2014.000000      1.0           1.000000   \n",
       "max    9.102017e+09   2019.000000      1.0           1.000000   \n",
       "\n",
       "       Electoral_Score  Liberal_Score  Participatory_Score  \\\n",
       "count     12652.000000   12652.000000         12652.000000   \n",
       "mean          0.566069       0.446735             0.370286   \n",
       "std           0.251981       0.269327             0.201592   \n",
       "min           0.014000       0.006000             0.009000   \n",
       "25%           0.352000       0.211000             0.203000   \n",
       "50%           0.549000       0.403000             0.346000   \n",
       "75%           0.843000       0.755000             0.582000   \n",
       "max           0.922000       0.896000             0.807000   \n",
       "\n",
       "       Deliberative_Score  Egalitarian_Score     HDI_Score  violenceStatus  \\\n",
       "count        12652.000000       12652.000000  12436.000000    12652.000000   \n",
       "mean             0.455604           0.420957      0.679471        0.440642   \n",
       "std              0.251682           0.246582      0.161842        0.496484   \n",
       "min              0.006000           0.034000      0.197000        0.000000   \n",
       "25%              0.241000           0.213000      0.558000        0.000000   \n",
       "50%              0.415000           0.331000      0.694000        0.000000   \n",
       "75%              0.727000           0.680000      0.807000        1.000000   \n",
       "max              0.886000           0.885000      0.955000        1.000000   \n",
       "\n",
       "       predicted_prob  \n",
       "count    12436.000000  \n",
       "mean         0.439530  \n",
       "std          0.125796  \n",
       "min          0.237938  \n",
       "25%          0.309645  \n",
       "50%          0.455389  \n",
       "75%          0.539201  \n",
       "max          0.775399  "
      ]
     },
     "execution_count": 139,
     "metadata": {},
     "output_type": "execute_result"
    }
   ],
   "source": [
    "df.describe()"
   ]
  },
  {
   "cell_type": "code",
   "execution_count": 140,
   "metadata": {},
   "outputs": [],
   "source": [
    "df = df.drop(['id', 'protest', 'protesterdemand2', 'protesterdemand3',\n",
    "         'protesterdemand4', 'stateresponse2', 'stateresponse3',\n",
    "         'stateresponse4', 'stateresponse5', 'stateresponse6',\n",
    "         'stateresponse7'], \n",
    "        axis=1)"
   ]
  },
  {
   "cell_type": "code",
   "execution_count": 141,
   "metadata": {},
   "outputs": [
    {
     "data": {
      "text/plain": [
       "Country                  0\n",
       "Year                     0\n",
       "region                   0\n",
       "protesterviolence        0\n",
       "protesterdemand1         1\n",
       "stateresponse1          23\n",
       "Electoral_Score          0\n",
       "Liberal_Score            0\n",
       "Participatory_Score      0\n",
       "Deliberative_Score       0\n",
       "Egalitarian_Score        0\n",
       "HDI_Score              216\n",
       "violenceStatus           0\n",
       "predicted_prob         216\n",
       "dtype: int64"
      ]
     },
     "execution_count": 141,
     "metadata": {},
     "output_type": "execute_result"
    }
   ],
   "source": [
    "df.isnull().sum()"
   ]
  },
  {
   "cell_type": "code",
   "execution_count": 142,
   "metadata": {},
   "outputs": [
    {
     "name": "stdout",
     "output_type": "stream",
     "text": [
      "<class 'pandas.core.frame.DataFrame'>\n",
      "RangeIndex: 12652 entries, 0 to 12651\n",
      "Data columns (total 14 columns):\n",
      " #   Column               Non-Null Count  Dtype  \n",
      "---  ------               --------------  -----  \n",
      " 0   Country              12652 non-null  object \n",
      " 1   Year                 12652 non-null  int64  \n",
      " 2   region               12652 non-null  object \n",
      " 3   protesterviolence    12652 non-null  int64  \n",
      " 4   protesterdemand1     12651 non-null  object \n",
      " 5   stateresponse1       12629 non-null  object \n",
      " 6   Electoral_Score      12652 non-null  float64\n",
      " 7   Liberal_Score        12652 non-null  float64\n",
      " 8   Participatory_Score  12652 non-null  float64\n",
      " 9   Deliberative_Score   12652 non-null  float64\n",
      " 10  Egalitarian_Score    12652 non-null  float64\n",
      " 11  HDI_Score            12436 non-null  float64\n",
      " 12  violenceStatus       12652 non-null  int64  \n",
      " 13  predicted_prob       12436 non-null  float64\n",
      "dtypes: float64(7), int64(3), object(4)\n",
      "memory usage: 1.4+ MB\n"
     ]
    }
   ],
   "source": [
    "df.info()"
   ]
  },
  {
   "cell_type": "code",
   "execution_count": 143,
   "metadata": {},
   "outputs": [],
   "source": [
    "df.dropna(subset=['stateresponse1', 'protesterdemand1'], inplace=True)\n",
    "\n",
    "df['predicted_prob'].fillna(df['predicted_prob'].mean(), inplace=True)\n",
    "df['HDI_Score'].fillna(df['HDI_Score'].mean(), inplace=True)"
   ]
  },
  {
   "cell_type": "code",
   "execution_count": 144,
   "metadata": {},
   "outputs": [
    {
     "data": {
      "text/plain": [
       "Country                0\n",
       "Year                   0\n",
       "region                 0\n",
       "protesterviolence      0\n",
       "protesterdemand1       0\n",
       "stateresponse1         0\n",
       "Electoral_Score        0\n",
       "Liberal_Score          0\n",
       "Participatory_Score    0\n",
       "Deliberative_Score     0\n",
       "Egalitarian_Score      0\n",
       "HDI_Score              0\n",
       "violenceStatus         0\n",
       "predicted_prob         0\n",
       "dtype: int64"
      ]
     },
     "execution_count": 144,
     "metadata": {},
     "output_type": "execute_result"
    }
   ],
   "source": [
    "df.isnull().sum()"
   ]
  },
  {
   "cell_type": "code",
   "execution_count": 145,
   "metadata": {},
   "outputs": [
    {
     "data": {
      "text/html": [
       "<div>\n",
       "<style scoped>\n",
       "    .dataframe tbody tr th:only-of-type {\n",
       "        vertical-align: middle;\n",
       "    }\n",
       "\n",
       "    .dataframe tbody tr th {\n",
       "        vertical-align: top;\n",
       "    }\n",
       "\n",
       "    .dataframe thead th {\n",
       "        text-align: right;\n",
       "    }\n",
       "</style>\n",
       "<table border=\"1\" class=\"dataframe\">\n",
       "  <thead>\n",
       "    <tr style=\"text-align: right;\">\n",
       "      <th></th>\n",
       "      <th>Country</th>\n",
       "      <th>Year</th>\n",
       "      <th>region</th>\n",
       "      <th>protesterviolence</th>\n",
       "      <th>protesterdemand1</th>\n",
       "      <th>stateresponse1</th>\n",
       "      <th>Electoral_Score</th>\n",
       "      <th>Liberal_Score</th>\n",
       "      <th>Participatory_Score</th>\n",
       "      <th>Deliberative_Score</th>\n",
       "      <th>Egalitarian_Score</th>\n",
       "      <th>HDI_Score</th>\n",
       "      <th>violenceStatus</th>\n",
       "      <th>predicted_prob</th>\n",
       "    </tr>\n",
       "  </thead>\n",
       "  <tbody>\n",
       "    <tr>\n",
       "      <th>0</th>\n",
       "      <td>Canada</td>\n",
       "      <td>1990</td>\n",
       "      <td>North America</td>\n",
       "      <td>0</td>\n",
       "      <td>political behavior, process</td>\n",
       "      <td>ignore</td>\n",
       "      <td>0.834</td>\n",
       "      <td>0.759</td>\n",
       "      <td>0.58</td>\n",
       "      <td>0.756</td>\n",
       "      <td>0.719</td>\n",
       "      <td>0.85</td>\n",
       "      <td>0</td>\n",
       "      <td>0.299385</td>\n",
       "    </tr>\n",
       "    <tr>\n",
       "      <th>1</th>\n",
       "      <td>Canada</td>\n",
       "      <td>1990</td>\n",
       "      <td>North America</td>\n",
       "      <td>0</td>\n",
       "      <td>political behavior, process</td>\n",
       "      <td>ignore</td>\n",
       "      <td>0.834</td>\n",
       "      <td>0.759</td>\n",
       "      <td>0.58</td>\n",
       "      <td>0.756</td>\n",
       "      <td>0.719</td>\n",
       "      <td>0.85</td>\n",
       "      <td>0</td>\n",
       "      <td>0.299385</td>\n",
       "    </tr>\n",
       "    <tr>\n",
       "      <th>2</th>\n",
       "      <td>Canada</td>\n",
       "      <td>1990</td>\n",
       "      <td>North America</td>\n",
       "      <td>0</td>\n",
       "      <td>political behavior, process</td>\n",
       "      <td>ignore</td>\n",
       "      <td>0.834</td>\n",
       "      <td>0.759</td>\n",
       "      <td>0.58</td>\n",
       "      <td>0.756</td>\n",
       "      <td>0.719</td>\n",
       "      <td>0.85</td>\n",
       "      <td>0</td>\n",
       "      <td>0.299385</td>\n",
       "    </tr>\n",
       "    <tr>\n",
       "      <th>3</th>\n",
       "      <td>Canada</td>\n",
       "      <td>1990</td>\n",
       "      <td>North America</td>\n",
       "      <td>1</td>\n",
       "      <td>land farm issue</td>\n",
       "      <td>accomodation</td>\n",
       "      <td>0.834</td>\n",
       "      <td>0.759</td>\n",
       "      <td>0.58</td>\n",
       "      <td>0.756</td>\n",
       "      <td>0.719</td>\n",
       "      <td>0.85</td>\n",
       "      <td>1</td>\n",
       "      <td>0.299385</td>\n",
       "    </tr>\n",
       "    <tr>\n",
       "      <th>4</th>\n",
       "      <td>Canada</td>\n",
       "      <td>1990</td>\n",
       "      <td>North America</td>\n",
       "      <td>1</td>\n",
       "      <td>political behavior, process</td>\n",
       "      <td>crowd dispersal</td>\n",
       "      <td>0.834</td>\n",
       "      <td>0.759</td>\n",
       "      <td>0.58</td>\n",
       "      <td>0.756</td>\n",
       "      <td>0.719</td>\n",
       "      <td>0.85</td>\n",
       "      <td>1</td>\n",
       "      <td>0.299385</td>\n",
       "    </tr>\n",
       "  </tbody>\n",
       "</table>\n",
       "</div>"
      ],
      "text/plain": [
       "  Country  Year         region  protesterviolence  \\\n",
       "0  Canada  1990  North America                  0   \n",
       "1  Canada  1990  North America                  0   \n",
       "2  Canada  1990  North America                  0   \n",
       "3  Canada  1990  North America                  1   \n",
       "4  Canada  1990  North America                  1   \n",
       "\n",
       "              protesterdemand1   stateresponse1  Electoral_Score  \\\n",
       "0  political behavior, process           ignore            0.834   \n",
       "1  political behavior, process           ignore            0.834   \n",
       "2  political behavior, process           ignore            0.834   \n",
       "3              land farm issue     accomodation            0.834   \n",
       "4  political behavior, process  crowd dispersal            0.834   \n",
       "\n",
       "   Liberal_Score  Participatory_Score  Deliberative_Score  Egalitarian_Score  \\\n",
       "0          0.759                 0.58               0.756              0.719   \n",
       "1          0.759                 0.58               0.756              0.719   \n",
       "2          0.759                 0.58               0.756              0.719   \n",
       "3          0.759                 0.58               0.756              0.719   \n",
       "4          0.759                 0.58               0.756              0.719   \n",
       "\n",
       "   HDI_Score  violenceStatus  predicted_prob  \n",
       "0       0.85               0        0.299385  \n",
       "1       0.85               0        0.299385  \n",
       "2       0.85               0        0.299385  \n",
       "3       0.85               1        0.299385  \n",
       "4       0.85               1        0.299385  "
      ]
     },
     "execution_count": 145,
     "metadata": {},
     "output_type": "execute_result"
    }
   ],
   "source": [
    "df.head()"
   ]
  },
  {
   "cell_type": "code",
   "execution_count": 146,
   "metadata": {},
   "outputs": [
    {
     "data": {
      "application/vnd.plotly.v1+json": {
       "config": {
        "linkText": "Export to plot.ly",
        "plotlyServerURL": "https://plot.ly",
        "showLink": false
       },
       "data": [
        {
         "alignmentgroup": "True",
         "hovertemplate": "Country=%{x}<br>count=%{y}<extra></extra>",
         "legendgroup": "",
         "marker": {
          "color": "#636efa",
          "pattern": {
           "shape": ""
          }
         },
         "name": "",
         "offsetgroup": "",
         "orientation": "v",
         "showlegend": false,
         "textposition": "auto",
         "type": "bar",
         "x": [
          "United Kingdom",
          "France",
          "Ireland",
          "Germany",
          "Kenya",
          "Bangladesh",
          "China",
          "Greece",
          "Thailand",
          "Namibia",
          "Brazil",
          "India",
          "Romania",
          "Nepal",
          "South Africa",
          "Pakistan",
          "Chile",
          "Spain",
          "Italy",
          "Nigeria",
          "Peru",
          "Kyrgyzstan",
          "Ecuador",
          "Yemen",
          "Indonesia",
          "Mexico",
          "Ukraine",
          "Malaysia",
          "Colombia",
          "Cyprus",
          "Egypt",
          "Azerbaijan",
          "Bulgaria",
          "Iraq",
          "Poland",
          "Haiti",
          "Lebanon",
          "Zimbabwe",
          "Honduras",
          "Argentina",
          "Madagascar",
          "Guatemala",
          "Niger",
          "Algeria",
          "Armenia",
          "Guinea",
          "Cuba",
          "Burundi",
          "Zambia",
          "Togo",
          "Nicaragua",
          "Kazakhstan",
          "Latvia",
          "Mauritania",
          "Comoros",
          "Albania",
          "Mozambique",
          "Sri Lanka",
          "Hungary",
          "Belarus",
          "Dominican Republic",
          "Uruguay",
          "Liberia",
          "Burkina Faso",
          "Paraguay",
          "Ghana",
          "Malawi",
          "Sudan",
          "Philippines",
          "Uganda",
          "Central African Republic",
          "Benin",
          "Georgia",
          "Cameroon",
          "Japan",
          "Mali",
          "Cambodia",
          "Canada",
          "Suriname",
          "Mongolia",
          "El Salvador"
         ],
         "xaxis": "x",
         "y": [
          574,
          541,
          431,
          362,
          350,
          338,
          316,
          311,
          249,
          225,
          223,
          221,
          219,
          210,
          175,
          175,
          171,
          167,
          166,
          164,
          163,
          161,
          161,
          157,
          152,
          150,
          148,
          147,
          139,
          128,
          126,
          125,
          124,
          122,
          122,
          122,
          121,
          115,
          113,
          113,
          111,
          111,
          106,
          105,
          104,
          100,
          99,
          98,
          95,
          94,
          89,
          85,
          85,
          81,
          80,
          77,
          75,
          74,
          71,
          71,
          69,
          68,
          68,
          67,
          66,
          65,
          64,
          64,
          64,
          63,
          61,
          59,
          59,
          58,
          58,
          53,
          53,
          52,
          51,
          50,
          50
         ],
         "yaxis": "y"
        }
       ],
       "layout": {
        "barmode": "relative",
        "legend": {
         "tracegroupgap": 0
        },
        "margin": {
         "t": 60
        },
        "template": {
         "data": {
          "bar": [
           {
            "error_x": {
             "color": "#2a3f5f"
            },
            "error_y": {
             "color": "#2a3f5f"
            },
            "marker": {
             "line": {
              "color": "#E5ECF6",
              "width": 0.5
             },
             "pattern": {
              "fillmode": "overlay",
              "size": 10,
              "solidity": 0.2
             }
            },
            "type": "bar"
           }
          ],
          "barpolar": [
           {
            "marker": {
             "line": {
              "color": "#E5ECF6",
              "width": 0.5
             },
             "pattern": {
              "fillmode": "overlay",
              "size": 10,
              "solidity": 0.2
             }
            },
            "type": "barpolar"
           }
          ],
          "carpet": [
           {
            "aaxis": {
             "endlinecolor": "#2a3f5f",
             "gridcolor": "white",
             "linecolor": "white",
             "minorgridcolor": "white",
             "startlinecolor": "#2a3f5f"
            },
            "baxis": {
             "endlinecolor": "#2a3f5f",
             "gridcolor": "white",
             "linecolor": "white",
             "minorgridcolor": "white",
             "startlinecolor": "#2a3f5f"
            },
            "type": "carpet"
           }
          ],
          "choropleth": [
           {
            "colorbar": {
             "outlinewidth": 0,
             "ticks": ""
            },
            "type": "choropleth"
           }
          ],
          "contour": [
           {
            "colorbar": {
             "outlinewidth": 0,
             "ticks": ""
            },
            "colorscale": [
             [
              0,
              "#0d0887"
             ],
             [
              0.1111111111111111,
              "#46039f"
             ],
             [
              0.2222222222222222,
              "#7201a8"
             ],
             [
              0.3333333333333333,
              "#9c179e"
             ],
             [
              0.4444444444444444,
              "#bd3786"
             ],
             [
              0.5555555555555556,
              "#d8576b"
             ],
             [
              0.6666666666666666,
              "#ed7953"
             ],
             [
              0.7777777777777778,
              "#fb9f3a"
             ],
             [
              0.8888888888888888,
              "#fdca26"
             ],
             [
              1,
              "#f0f921"
             ]
            ],
            "type": "contour"
           }
          ],
          "contourcarpet": [
           {
            "colorbar": {
             "outlinewidth": 0,
             "ticks": ""
            },
            "type": "contourcarpet"
           }
          ],
          "heatmap": [
           {
            "colorbar": {
             "outlinewidth": 0,
             "ticks": ""
            },
            "colorscale": [
             [
              0,
              "#0d0887"
             ],
             [
              0.1111111111111111,
              "#46039f"
             ],
             [
              0.2222222222222222,
              "#7201a8"
             ],
             [
              0.3333333333333333,
              "#9c179e"
             ],
             [
              0.4444444444444444,
              "#bd3786"
             ],
             [
              0.5555555555555556,
              "#d8576b"
             ],
             [
              0.6666666666666666,
              "#ed7953"
             ],
             [
              0.7777777777777778,
              "#fb9f3a"
             ],
             [
              0.8888888888888888,
              "#fdca26"
             ],
             [
              1,
              "#f0f921"
             ]
            ],
            "type": "heatmap"
           }
          ],
          "heatmapgl": [
           {
            "colorbar": {
             "outlinewidth": 0,
             "ticks": ""
            },
            "colorscale": [
             [
              0,
              "#0d0887"
             ],
             [
              0.1111111111111111,
              "#46039f"
             ],
             [
              0.2222222222222222,
              "#7201a8"
             ],
             [
              0.3333333333333333,
              "#9c179e"
             ],
             [
              0.4444444444444444,
              "#bd3786"
             ],
             [
              0.5555555555555556,
              "#d8576b"
             ],
             [
              0.6666666666666666,
              "#ed7953"
             ],
             [
              0.7777777777777778,
              "#fb9f3a"
             ],
             [
              0.8888888888888888,
              "#fdca26"
             ],
             [
              1,
              "#f0f921"
             ]
            ],
            "type": "heatmapgl"
           }
          ],
          "histogram": [
           {
            "marker": {
             "pattern": {
              "fillmode": "overlay",
              "size": 10,
              "solidity": 0.2
             }
            },
            "type": "histogram"
           }
          ],
          "histogram2d": [
           {
            "colorbar": {
             "outlinewidth": 0,
             "ticks": ""
            },
            "colorscale": [
             [
              0,
              "#0d0887"
             ],
             [
              0.1111111111111111,
              "#46039f"
             ],
             [
              0.2222222222222222,
              "#7201a8"
             ],
             [
              0.3333333333333333,
              "#9c179e"
             ],
             [
              0.4444444444444444,
              "#bd3786"
             ],
             [
              0.5555555555555556,
              "#d8576b"
             ],
             [
              0.6666666666666666,
              "#ed7953"
             ],
             [
              0.7777777777777778,
              "#fb9f3a"
             ],
             [
              0.8888888888888888,
              "#fdca26"
             ],
             [
              1,
              "#f0f921"
             ]
            ],
            "type": "histogram2d"
           }
          ],
          "histogram2dcontour": [
           {
            "colorbar": {
             "outlinewidth": 0,
             "ticks": ""
            },
            "colorscale": [
             [
              0,
              "#0d0887"
             ],
             [
              0.1111111111111111,
              "#46039f"
             ],
             [
              0.2222222222222222,
              "#7201a8"
             ],
             [
              0.3333333333333333,
              "#9c179e"
             ],
             [
              0.4444444444444444,
              "#bd3786"
             ],
             [
              0.5555555555555556,
              "#d8576b"
             ],
             [
              0.6666666666666666,
              "#ed7953"
             ],
             [
              0.7777777777777778,
              "#fb9f3a"
             ],
             [
              0.8888888888888888,
              "#fdca26"
             ],
             [
              1,
              "#f0f921"
             ]
            ],
            "type": "histogram2dcontour"
           }
          ],
          "mesh3d": [
           {
            "colorbar": {
             "outlinewidth": 0,
             "ticks": ""
            },
            "type": "mesh3d"
           }
          ],
          "parcoords": [
           {
            "line": {
             "colorbar": {
              "outlinewidth": 0,
              "ticks": ""
             }
            },
            "type": "parcoords"
           }
          ],
          "pie": [
           {
            "automargin": true,
            "type": "pie"
           }
          ],
          "scatter": [
           {
            "fillpattern": {
             "fillmode": "overlay",
             "size": 10,
             "solidity": 0.2
            },
            "type": "scatter"
           }
          ],
          "scatter3d": [
           {
            "line": {
             "colorbar": {
              "outlinewidth": 0,
              "ticks": ""
             }
            },
            "marker": {
             "colorbar": {
              "outlinewidth": 0,
              "ticks": ""
             }
            },
            "type": "scatter3d"
           }
          ],
          "scattercarpet": [
           {
            "marker": {
             "colorbar": {
              "outlinewidth": 0,
              "ticks": ""
             }
            },
            "type": "scattercarpet"
           }
          ],
          "scattergeo": [
           {
            "marker": {
             "colorbar": {
              "outlinewidth": 0,
              "ticks": ""
             }
            },
            "type": "scattergeo"
           }
          ],
          "scattergl": [
           {
            "marker": {
             "colorbar": {
              "outlinewidth": 0,
              "ticks": ""
             }
            },
            "type": "scattergl"
           }
          ],
          "scattermapbox": [
           {
            "marker": {
             "colorbar": {
              "outlinewidth": 0,
              "ticks": ""
             }
            },
            "type": "scattermapbox"
           }
          ],
          "scatterpolar": [
           {
            "marker": {
             "colorbar": {
              "outlinewidth": 0,
              "ticks": ""
             }
            },
            "type": "scatterpolar"
           }
          ],
          "scatterpolargl": [
           {
            "marker": {
             "colorbar": {
              "outlinewidth": 0,
              "ticks": ""
             }
            },
            "type": "scatterpolargl"
           }
          ],
          "scatterternary": [
           {
            "marker": {
             "colorbar": {
              "outlinewidth": 0,
              "ticks": ""
             }
            },
            "type": "scatterternary"
           }
          ],
          "surface": [
           {
            "colorbar": {
             "outlinewidth": 0,
             "ticks": ""
            },
            "colorscale": [
             [
              0,
              "#0d0887"
             ],
             [
              0.1111111111111111,
              "#46039f"
             ],
             [
              0.2222222222222222,
              "#7201a8"
             ],
             [
              0.3333333333333333,
              "#9c179e"
             ],
             [
              0.4444444444444444,
              "#bd3786"
             ],
             [
              0.5555555555555556,
              "#d8576b"
             ],
             [
              0.6666666666666666,
              "#ed7953"
             ],
             [
              0.7777777777777778,
              "#fb9f3a"
             ],
             [
              0.8888888888888888,
              "#fdca26"
             ],
             [
              1,
              "#f0f921"
             ]
            ],
            "type": "surface"
           }
          ],
          "table": [
           {
            "cells": {
             "fill": {
              "color": "#EBF0F8"
             },
             "line": {
              "color": "white"
             }
            },
            "header": {
             "fill": {
              "color": "#C8D4E3"
             },
             "line": {
              "color": "white"
             }
            },
            "type": "table"
           }
          ]
         },
         "layout": {
          "annotationdefaults": {
           "arrowcolor": "#2a3f5f",
           "arrowhead": 0,
           "arrowwidth": 1
          },
          "autotypenumbers": "strict",
          "coloraxis": {
           "colorbar": {
            "outlinewidth": 0,
            "ticks": ""
           }
          },
          "colorscale": {
           "diverging": [
            [
             0,
             "#8e0152"
            ],
            [
             0.1,
             "#c51b7d"
            ],
            [
             0.2,
             "#de77ae"
            ],
            [
             0.3,
             "#f1b6da"
            ],
            [
             0.4,
             "#fde0ef"
            ],
            [
             0.5,
             "#f7f7f7"
            ],
            [
             0.6,
             "#e6f5d0"
            ],
            [
             0.7,
             "#b8e186"
            ],
            [
             0.8,
             "#7fbc41"
            ],
            [
             0.9,
             "#4d9221"
            ],
            [
             1,
             "#276419"
            ]
           ],
           "sequential": [
            [
             0,
             "#0d0887"
            ],
            [
             0.1111111111111111,
             "#46039f"
            ],
            [
             0.2222222222222222,
             "#7201a8"
            ],
            [
             0.3333333333333333,
             "#9c179e"
            ],
            [
             0.4444444444444444,
             "#bd3786"
            ],
            [
             0.5555555555555556,
             "#d8576b"
            ],
            [
             0.6666666666666666,
             "#ed7953"
            ],
            [
             0.7777777777777778,
             "#fb9f3a"
            ],
            [
             0.8888888888888888,
             "#fdca26"
            ],
            [
             1,
             "#f0f921"
            ]
           ],
           "sequentialminus": [
            [
             0,
             "#0d0887"
            ],
            [
             0.1111111111111111,
             "#46039f"
            ],
            [
             0.2222222222222222,
             "#7201a8"
            ],
            [
             0.3333333333333333,
             "#9c179e"
            ],
            [
             0.4444444444444444,
             "#bd3786"
            ],
            [
             0.5555555555555556,
             "#d8576b"
            ],
            [
             0.6666666666666666,
             "#ed7953"
            ],
            [
             0.7777777777777778,
             "#fb9f3a"
            ],
            [
             0.8888888888888888,
             "#fdca26"
            ],
            [
             1,
             "#f0f921"
            ]
           ]
          },
          "colorway": [
           "#636efa",
           "#EF553B",
           "#00cc96",
           "#ab63fa",
           "#FFA15A",
           "#19d3f3",
           "#FF6692",
           "#B6E880",
           "#FF97FF",
           "#FECB52"
          ],
          "font": {
           "color": "#2a3f5f"
          },
          "geo": {
           "bgcolor": "white",
           "lakecolor": "white",
           "landcolor": "#E5ECF6",
           "showlakes": true,
           "showland": true,
           "subunitcolor": "white"
          },
          "hoverlabel": {
           "align": "left"
          },
          "hovermode": "closest",
          "mapbox": {
           "style": "light"
          },
          "paper_bgcolor": "white",
          "plot_bgcolor": "#E5ECF6",
          "polar": {
           "angularaxis": {
            "gridcolor": "white",
            "linecolor": "white",
            "ticks": ""
           },
           "bgcolor": "#E5ECF6",
           "radialaxis": {
            "gridcolor": "white",
            "linecolor": "white",
            "ticks": ""
           }
          },
          "scene": {
           "xaxis": {
            "backgroundcolor": "#E5ECF6",
            "gridcolor": "white",
            "gridwidth": 2,
            "linecolor": "white",
            "showbackground": true,
            "ticks": "",
            "zerolinecolor": "white"
           },
           "yaxis": {
            "backgroundcolor": "#E5ECF6",
            "gridcolor": "white",
            "gridwidth": 2,
            "linecolor": "white",
            "showbackground": true,
            "ticks": "",
            "zerolinecolor": "white"
           },
           "zaxis": {
            "backgroundcolor": "#E5ECF6",
            "gridcolor": "white",
            "gridwidth": 2,
            "linecolor": "white",
            "showbackground": true,
            "ticks": "",
            "zerolinecolor": "white"
           }
          },
          "shapedefaults": {
           "line": {
            "color": "#2a3f5f"
           }
          },
          "ternary": {
           "aaxis": {
            "gridcolor": "white",
            "linecolor": "white",
            "ticks": ""
           },
           "baxis": {
            "gridcolor": "white",
            "linecolor": "white",
            "ticks": ""
           },
           "bgcolor": "#E5ECF6",
           "caxis": {
            "gridcolor": "white",
            "linecolor": "white",
            "ticks": ""
           }
          },
          "title": {
           "x": 0.05
          },
          "xaxis": {
           "automargin": true,
           "gridcolor": "white",
           "linecolor": "white",
           "ticks": "",
           "title": {
            "standoff": 15
           },
           "zerolinecolor": "white",
           "zerolinewidth": 2
          },
          "yaxis": {
           "automargin": true,
           "gridcolor": "white",
           "linecolor": "white",
           "ticks": "",
           "title": {
            "standoff": 15
           },
           "zerolinecolor": "white",
           "zerolinewidth": 2
          }
         }
        },
        "xaxis": {
         "anchor": "y",
         "domain": [
          0,
          1
         ],
         "title": {
          "text": "Country"
         }
        },
        "yaxis": {
         "anchor": "x",
         "domain": [
          0,
          1
         ],
         "title": {
          "text": "count"
         }
        }
       }
      },
      "text/html": [
       "<div>                            <div id=\"1fbe1e8a-d8d0-4161-9b06-123b7df4c4ca\" class=\"plotly-graph-div\" style=\"height:525px; width:100%;\"></div>            <script type=\"text/javascript\">                require([\"plotly\"], function(Plotly) {                    window.PLOTLYENV=window.PLOTLYENV || {};                                    if (document.getElementById(\"1fbe1e8a-d8d0-4161-9b06-123b7df4c4ca\")) {                    Plotly.newPlot(                        \"1fbe1e8a-d8d0-4161-9b06-123b7df4c4ca\",                        [{\"alignmentgroup\":\"True\",\"hovertemplate\":\"Country=%{x}\\u003cbr\\u003ecount=%{y}\\u003cextra\\u003e\\u003c\\u002fextra\\u003e\",\"legendgroup\":\"\",\"marker\":{\"color\":\"#636efa\",\"pattern\":{\"shape\":\"\"}},\"name\":\"\",\"offsetgroup\":\"\",\"orientation\":\"v\",\"showlegend\":false,\"textposition\":\"auto\",\"x\":[\"United Kingdom\",\"France\",\"Ireland\",\"Germany\",\"Kenya\",\"Bangladesh\",\"China\",\"Greece\",\"Thailand\",\"Namibia\",\"Brazil\",\"India\",\"Romania\",\"Nepal\",\"South Africa\",\"Pakistan\",\"Chile\",\"Spain\",\"Italy\",\"Nigeria\",\"Peru\",\"Kyrgyzstan\",\"Ecuador\",\"Yemen\",\"Indonesia\",\"Mexico\",\"Ukraine\",\"Malaysia\",\"Colombia\",\"Cyprus\",\"Egypt\",\"Azerbaijan\",\"Bulgaria\",\"Iraq\",\"Poland\",\"Haiti\",\"Lebanon\",\"Zimbabwe\",\"Honduras\",\"Argentina\",\"Madagascar\",\"Guatemala\",\"Niger\",\"Algeria\",\"Armenia\",\"Guinea\",\"Cuba\",\"Burundi\",\"Zambia\",\"Togo\",\"Nicaragua\",\"Kazakhstan\",\"Latvia\",\"Mauritania\",\"Comoros\",\"Albania\",\"Mozambique\",\"Sri Lanka\",\"Hungary\",\"Belarus\",\"Dominican Republic\",\"Uruguay\",\"Liberia\",\"Burkina Faso\",\"Paraguay\",\"Ghana\",\"Malawi\",\"Sudan\",\"Philippines\",\"Uganda\",\"Central African Republic\",\"Benin\",\"Georgia\",\"Cameroon\",\"Japan\",\"Mali\",\"Cambodia\",\"Canada\",\"Suriname\",\"Mongolia\",\"El Salvador\"],\"xaxis\":\"x\",\"y\":[574,541,431,362,350,338,316,311,249,225,223,221,219,210,175,175,171,167,166,164,163,161,161,157,152,150,148,147,139,128,126,125,124,122,122,122,121,115,113,113,111,111,106,105,104,100,99,98,95,94,89,85,85,81,80,77,75,74,71,71,69,68,68,67,66,65,64,64,64,63,61,59,59,58,58,53,53,52,51,50,50],\"yaxis\":\"y\",\"type\":\"bar\"}],                        {\"barmode\":\"relative\",\"legend\":{\"tracegroupgap\":0},\"margin\":{\"t\":60},\"template\":{\"data\":{\"barpolar\":[{\"marker\":{\"line\":{\"color\":\"#E5ECF6\",\"width\":0.5},\"pattern\":{\"fillmode\":\"overlay\",\"size\":10,\"solidity\":0.2}},\"type\":\"barpolar\"}],\"bar\":[{\"error_x\":{\"color\":\"#2a3f5f\"},\"error_y\":{\"color\":\"#2a3f5f\"},\"marker\":{\"line\":{\"color\":\"#E5ECF6\",\"width\":0.5},\"pattern\":{\"fillmode\":\"overlay\",\"size\":10,\"solidity\":0.2}},\"type\":\"bar\"}],\"carpet\":[{\"aaxis\":{\"endlinecolor\":\"#2a3f5f\",\"gridcolor\":\"white\",\"linecolor\":\"white\",\"minorgridcolor\":\"white\",\"startlinecolor\":\"#2a3f5f\"},\"baxis\":{\"endlinecolor\":\"#2a3f5f\",\"gridcolor\":\"white\",\"linecolor\":\"white\",\"minorgridcolor\":\"white\",\"startlinecolor\":\"#2a3f5f\"},\"type\":\"carpet\"}],\"choropleth\":[{\"colorbar\":{\"outlinewidth\":0,\"ticks\":\"\"},\"type\":\"choropleth\"}],\"contourcarpet\":[{\"colorbar\":{\"outlinewidth\":0,\"ticks\":\"\"},\"type\":\"contourcarpet\"}],\"contour\":[{\"colorbar\":{\"outlinewidth\":0,\"ticks\":\"\"},\"colorscale\":[[0.0,\"#0d0887\"],[0.1111111111111111,\"#46039f\"],[0.2222222222222222,\"#7201a8\"],[0.3333333333333333,\"#9c179e\"],[0.4444444444444444,\"#bd3786\"],[0.5555555555555556,\"#d8576b\"],[0.6666666666666666,\"#ed7953\"],[0.7777777777777778,\"#fb9f3a\"],[0.8888888888888888,\"#fdca26\"],[1.0,\"#f0f921\"]],\"type\":\"contour\"}],\"heatmapgl\":[{\"colorbar\":{\"outlinewidth\":0,\"ticks\":\"\"},\"colorscale\":[[0.0,\"#0d0887\"],[0.1111111111111111,\"#46039f\"],[0.2222222222222222,\"#7201a8\"],[0.3333333333333333,\"#9c179e\"],[0.4444444444444444,\"#bd3786\"],[0.5555555555555556,\"#d8576b\"],[0.6666666666666666,\"#ed7953\"],[0.7777777777777778,\"#fb9f3a\"],[0.8888888888888888,\"#fdca26\"],[1.0,\"#f0f921\"]],\"type\":\"heatmapgl\"}],\"heatmap\":[{\"colorbar\":{\"outlinewidth\":0,\"ticks\":\"\"},\"colorscale\":[[0.0,\"#0d0887\"],[0.1111111111111111,\"#46039f\"],[0.2222222222222222,\"#7201a8\"],[0.3333333333333333,\"#9c179e\"],[0.4444444444444444,\"#bd3786\"],[0.5555555555555556,\"#d8576b\"],[0.6666666666666666,\"#ed7953\"],[0.7777777777777778,\"#fb9f3a\"],[0.8888888888888888,\"#fdca26\"],[1.0,\"#f0f921\"]],\"type\":\"heatmap\"}],\"histogram2dcontour\":[{\"colorbar\":{\"outlinewidth\":0,\"ticks\":\"\"},\"colorscale\":[[0.0,\"#0d0887\"],[0.1111111111111111,\"#46039f\"],[0.2222222222222222,\"#7201a8\"],[0.3333333333333333,\"#9c179e\"],[0.4444444444444444,\"#bd3786\"],[0.5555555555555556,\"#d8576b\"],[0.6666666666666666,\"#ed7953\"],[0.7777777777777778,\"#fb9f3a\"],[0.8888888888888888,\"#fdca26\"],[1.0,\"#f0f921\"]],\"type\":\"histogram2dcontour\"}],\"histogram2d\":[{\"colorbar\":{\"outlinewidth\":0,\"ticks\":\"\"},\"colorscale\":[[0.0,\"#0d0887\"],[0.1111111111111111,\"#46039f\"],[0.2222222222222222,\"#7201a8\"],[0.3333333333333333,\"#9c179e\"],[0.4444444444444444,\"#bd3786\"],[0.5555555555555556,\"#d8576b\"],[0.6666666666666666,\"#ed7953\"],[0.7777777777777778,\"#fb9f3a\"],[0.8888888888888888,\"#fdca26\"],[1.0,\"#f0f921\"]],\"type\":\"histogram2d\"}],\"histogram\":[{\"marker\":{\"pattern\":{\"fillmode\":\"overlay\",\"size\":10,\"solidity\":0.2}},\"type\":\"histogram\"}],\"mesh3d\":[{\"colorbar\":{\"outlinewidth\":0,\"ticks\":\"\"},\"type\":\"mesh3d\"}],\"parcoords\":[{\"line\":{\"colorbar\":{\"outlinewidth\":0,\"ticks\":\"\"}},\"type\":\"parcoords\"}],\"pie\":[{\"automargin\":true,\"type\":\"pie\"}],\"scatter3d\":[{\"line\":{\"colorbar\":{\"outlinewidth\":0,\"ticks\":\"\"}},\"marker\":{\"colorbar\":{\"outlinewidth\":0,\"ticks\":\"\"}},\"type\":\"scatter3d\"}],\"scattercarpet\":[{\"marker\":{\"colorbar\":{\"outlinewidth\":0,\"ticks\":\"\"}},\"type\":\"scattercarpet\"}],\"scattergeo\":[{\"marker\":{\"colorbar\":{\"outlinewidth\":0,\"ticks\":\"\"}},\"type\":\"scattergeo\"}],\"scattergl\":[{\"marker\":{\"colorbar\":{\"outlinewidth\":0,\"ticks\":\"\"}},\"type\":\"scattergl\"}],\"scattermapbox\":[{\"marker\":{\"colorbar\":{\"outlinewidth\":0,\"ticks\":\"\"}},\"type\":\"scattermapbox\"}],\"scatterpolargl\":[{\"marker\":{\"colorbar\":{\"outlinewidth\":0,\"ticks\":\"\"}},\"type\":\"scatterpolargl\"}],\"scatterpolar\":[{\"marker\":{\"colorbar\":{\"outlinewidth\":0,\"ticks\":\"\"}},\"type\":\"scatterpolar\"}],\"scatter\":[{\"fillpattern\":{\"fillmode\":\"overlay\",\"size\":10,\"solidity\":0.2},\"type\":\"scatter\"}],\"scatterternary\":[{\"marker\":{\"colorbar\":{\"outlinewidth\":0,\"ticks\":\"\"}},\"type\":\"scatterternary\"}],\"surface\":[{\"colorbar\":{\"outlinewidth\":0,\"ticks\":\"\"},\"colorscale\":[[0.0,\"#0d0887\"],[0.1111111111111111,\"#46039f\"],[0.2222222222222222,\"#7201a8\"],[0.3333333333333333,\"#9c179e\"],[0.4444444444444444,\"#bd3786\"],[0.5555555555555556,\"#d8576b\"],[0.6666666666666666,\"#ed7953\"],[0.7777777777777778,\"#fb9f3a\"],[0.8888888888888888,\"#fdca26\"],[1.0,\"#f0f921\"]],\"type\":\"surface\"}],\"table\":[{\"cells\":{\"fill\":{\"color\":\"#EBF0F8\"},\"line\":{\"color\":\"white\"}},\"header\":{\"fill\":{\"color\":\"#C8D4E3\"},\"line\":{\"color\":\"white\"}},\"type\":\"table\"}]},\"layout\":{\"annotationdefaults\":{\"arrowcolor\":\"#2a3f5f\",\"arrowhead\":0,\"arrowwidth\":1},\"autotypenumbers\":\"strict\",\"coloraxis\":{\"colorbar\":{\"outlinewidth\":0,\"ticks\":\"\"}},\"colorscale\":{\"diverging\":[[0,\"#8e0152\"],[0.1,\"#c51b7d\"],[0.2,\"#de77ae\"],[0.3,\"#f1b6da\"],[0.4,\"#fde0ef\"],[0.5,\"#f7f7f7\"],[0.6,\"#e6f5d0\"],[0.7,\"#b8e186\"],[0.8,\"#7fbc41\"],[0.9,\"#4d9221\"],[1,\"#276419\"]],\"sequential\":[[0.0,\"#0d0887\"],[0.1111111111111111,\"#46039f\"],[0.2222222222222222,\"#7201a8\"],[0.3333333333333333,\"#9c179e\"],[0.4444444444444444,\"#bd3786\"],[0.5555555555555556,\"#d8576b\"],[0.6666666666666666,\"#ed7953\"],[0.7777777777777778,\"#fb9f3a\"],[0.8888888888888888,\"#fdca26\"],[1.0,\"#f0f921\"]],\"sequentialminus\":[[0.0,\"#0d0887\"],[0.1111111111111111,\"#46039f\"],[0.2222222222222222,\"#7201a8\"],[0.3333333333333333,\"#9c179e\"],[0.4444444444444444,\"#bd3786\"],[0.5555555555555556,\"#d8576b\"],[0.6666666666666666,\"#ed7953\"],[0.7777777777777778,\"#fb9f3a\"],[0.8888888888888888,\"#fdca26\"],[1.0,\"#f0f921\"]]},\"colorway\":[\"#636efa\",\"#EF553B\",\"#00cc96\",\"#ab63fa\",\"#FFA15A\",\"#19d3f3\",\"#FF6692\",\"#B6E880\",\"#FF97FF\",\"#FECB52\"],\"font\":{\"color\":\"#2a3f5f\"},\"geo\":{\"bgcolor\":\"white\",\"lakecolor\":\"white\",\"landcolor\":\"#E5ECF6\",\"showlakes\":true,\"showland\":true,\"subunitcolor\":\"white\"},\"hoverlabel\":{\"align\":\"left\"},\"hovermode\":\"closest\",\"mapbox\":{\"style\":\"light\"},\"paper_bgcolor\":\"white\",\"plot_bgcolor\":\"#E5ECF6\",\"polar\":{\"angularaxis\":{\"gridcolor\":\"white\",\"linecolor\":\"white\",\"ticks\":\"\"},\"bgcolor\":\"#E5ECF6\",\"radialaxis\":{\"gridcolor\":\"white\",\"linecolor\":\"white\",\"ticks\":\"\"}},\"scene\":{\"xaxis\":{\"backgroundcolor\":\"#E5ECF6\",\"gridcolor\":\"white\",\"gridwidth\":2,\"linecolor\":\"white\",\"showbackground\":true,\"ticks\":\"\",\"zerolinecolor\":\"white\"},\"yaxis\":{\"backgroundcolor\":\"#E5ECF6\",\"gridcolor\":\"white\",\"gridwidth\":2,\"linecolor\":\"white\",\"showbackground\":true,\"ticks\":\"\",\"zerolinecolor\":\"white\"},\"zaxis\":{\"backgroundcolor\":\"#E5ECF6\",\"gridcolor\":\"white\",\"gridwidth\":2,\"linecolor\":\"white\",\"showbackground\":true,\"ticks\":\"\",\"zerolinecolor\":\"white\"}},\"shapedefaults\":{\"line\":{\"color\":\"#2a3f5f\"}},\"ternary\":{\"aaxis\":{\"gridcolor\":\"white\",\"linecolor\":\"white\",\"ticks\":\"\"},\"baxis\":{\"gridcolor\":\"white\",\"linecolor\":\"white\",\"ticks\":\"\"},\"bgcolor\":\"#E5ECF6\",\"caxis\":{\"gridcolor\":\"white\",\"linecolor\":\"white\",\"ticks\":\"\"}},\"title\":{\"x\":0.05},\"xaxis\":{\"automargin\":true,\"gridcolor\":\"white\",\"linecolor\":\"white\",\"ticks\":\"\",\"title\":{\"standoff\":15},\"zerolinecolor\":\"white\",\"zerolinewidth\":2},\"yaxis\":{\"automargin\":true,\"gridcolor\":\"white\",\"linecolor\":\"white\",\"ticks\":\"\",\"title\":{\"standoff\":15},\"zerolinecolor\":\"white\",\"zerolinewidth\":2}}},\"xaxis\":{\"anchor\":\"y\",\"domain\":[0.0,1.0],\"title\":{\"text\":\"Country\"}},\"yaxis\":{\"anchor\":\"x\",\"domain\":[0.0,1.0],\"title\":{\"text\":\"count\"}}},                        {\"responsive\": true}                    ).then(function(){\n",
       "                            \n",
       "var gd = document.getElementById('1fbe1e8a-d8d0-4161-9b06-123b7df4c4ca');\n",
       "var x = new MutationObserver(function (mutations, observer) {{\n",
       "        var display = window.getComputedStyle(gd).display;\n",
       "        if (!display || display === 'none') {{\n",
       "            console.log([gd, 'removed!']);\n",
       "            Plotly.purge(gd);\n",
       "            observer.disconnect();\n",
       "        }}\n",
       "}});\n",
       "\n",
       "// Listen for the removal of the full notebook cells\n",
       "var notebookContainer = gd.closest('#notebook-container');\n",
       "if (notebookContainer) {{\n",
       "    x.observe(notebookContainer, {childList: true});\n",
       "}}\n",
       "\n",
       "// Listen for the clearing of the current output cell\n",
       "var outputEl = gd.closest('.output');\n",
       "if (outputEl) {{\n",
       "    x.observe(outputEl, {childList: true});\n",
       "}}\n",
       "\n",
       "                        })                };                });            </script>        </div>"
      ]
     },
     "metadata": {},
     "output_type": "display_data"
    }
   ],
   "source": [
    "cnt_country = df['Country'].value_counts().reset_index()\n",
    "cnt_country = cnt_country[cnt_country['count'] >= 50]\n",
    "\n",
    "fig = px.bar(data_frame=cnt_country, x='Country', y='count')\n",
    "iplot(fig)"
   ]
  },
  {
   "cell_type": "code",
   "execution_count": 147,
   "metadata": {},
   "outputs": [
    {
     "data": {
      "text/html": [
       "<div>\n",
       "<style scoped>\n",
       "    .dataframe tbody tr th:only-of-type {\n",
       "        vertical-align: middle;\n",
       "    }\n",
       "\n",
       "    .dataframe tbody tr th {\n",
       "        vertical-align: top;\n",
       "    }\n",
       "\n",
       "    .dataframe thead th {\n",
       "        text-align: right;\n",
       "    }\n",
       "</style>\n",
       "<table border=\"1\" class=\"dataframe\">\n",
       "  <thead>\n",
       "    <tr style=\"text-align: right;\">\n",
       "      <th></th>\n",
       "      <th>Country</th>\n",
       "      <th>Year</th>\n",
       "      <th>region</th>\n",
       "      <th>protesterviolence</th>\n",
       "      <th>protesterdemand1</th>\n",
       "      <th>stateresponse1</th>\n",
       "      <th>Electoral_Score</th>\n",
       "      <th>Liberal_Score</th>\n",
       "      <th>Participatory_Score</th>\n",
       "      <th>Deliberative_Score</th>\n",
       "      <th>Egalitarian_Score</th>\n",
       "      <th>HDI_Score</th>\n",
       "      <th>violenceStatus</th>\n",
       "      <th>predicted_prob</th>\n",
       "    </tr>\n",
       "  </thead>\n",
       "  <tbody>\n",
       "    <tr>\n",
       "      <th>0</th>\n",
       "      <td>Canada</td>\n",
       "      <td>1990</td>\n",
       "      <td>North America</td>\n",
       "      <td>0</td>\n",
       "      <td>political behavior, process</td>\n",
       "      <td>ignore</td>\n",
       "      <td>0.834</td>\n",
       "      <td>0.759</td>\n",
       "      <td>0.580</td>\n",
       "      <td>0.756</td>\n",
       "      <td>0.719</td>\n",
       "      <td>0.850</td>\n",
       "      <td>0</td>\n",
       "      <td>0.299385</td>\n",
       "    </tr>\n",
       "    <tr>\n",
       "      <th>1</th>\n",
       "      <td>Canada</td>\n",
       "      <td>1990</td>\n",
       "      <td>North America</td>\n",
       "      <td>0</td>\n",
       "      <td>political behavior, process</td>\n",
       "      <td>ignore</td>\n",
       "      <td>0.834</td>\n",
       "      <td>0.759</td>\n",
       "      <td>0.580</td>\n",
       "      <td>0.756</td>\n",
       "      <td>0.719</td>\n",
       "      <td>0.850</td>\n",
       "      <td>0</td>\n",
       "      <td>0.299385</td>\n",
       "    </tr>\n",
       "    <tr>\n",
       "      <th>2</th>\n",
       "      <td>Canada</td>\n",
       "      <td>1990</td>\n",
       "      <td>North America</td>\n",
       "      <td>0</td>\n",
       "      <td>political behavior, process</td>\n",
       "      <td>ignore</td>\n",
       "      <td>0.834</td>\n",
       "      <td>0.759</td>\n",
       "      <td>0.580</td>\n",
       "      <td>0.756</td>\n",
       "      <td>0.719</td>\n",
       "      <td>0.850</td>\n",
       "      <td>0</td>\n",
       "      <td>0.299385</td>\n",
       "    </tr>\n",
       "    <tr>\n",
       "      <th>3</th>\n",
       "      <td>Canada</td>\n",
       "      <td>1990</td>\n",
       "      <td>North America</td>\n",
       "      <td>1</td>\n",
       "      <td>land farm issue</td>\n",
       "      <td>accomodation</td>\n",
       "      <td>0.834</td>\n",
       "      <td>0.759</td>\n",
       "      <td>0.580</td>\n",
       "      <td>0.756</td>\n",
       "      <td>0.719</td>\n",
       "      <td>0.850</td>\n",
       "      <td>1</td>\n",
       "      <td>0.299385</td>\n",
       "    </tr>\n",
       "    <tr>\n",
       "      <th>4</th>\n",
       "      <td>Canada</td>\n",
       "      <td>1990</td>\n",
       "      <td>North America</td>\n",
       "      <td>1</td>\n",
       "      <td>political behavior, process</td>\n",
       "      <td>crowd dispersal</td>\n",
       "      <td>0.834</td>\n",
       "      <td>0.759</td>\n",
       "      <td>0.580</td>\n",
       "      <td>0.756</td>\n",
       "      <td>0.719</td>\n",
       "      <td>0.850</td>\n",
       "      <td>1</td>\n",
       "      <td>0.299385</td>\n",
       "    </tr>\n",
       "    <tr>\n",
       "      <th>...</th>\n",
       "      <td>...</td>\n",
       "      <td>...</td>\n",
       "      <td>...</td>\n",
       "      <td>...</td>\n",
       "      <td>...</td>\n",
       "      <td>...</td>\n",
       "      <td>...</td>\n",
       "      <td>...</td>\n",
       "      <td>...</td>\n",
       "      <td>...</td>\n",
       "      <td>...</td>\n",
       "      <td>...</td>\n",
       "      <td>...</td>\n",
       "      <td>...</td>\n",
       "    </tr>\n",
       "    <tr>\n",
       "      <th>12609</th>\n",
       "      <td>Indonesia</td>\n",
       "      <td>2019</td>\n",
       "      <td>Asia</td>\n",
       "      <td>1</td>\n",
       "      <td>political behavior, process</td>\n",
       "      <td>killings</td>\n",
       "      <td>0.601</td>\n",
       "      <td>0.462</td>\n",
       "      <td>0.398</td>\n",
       "      <td>0.516</td>\n",
       "      <td>0.359</td>\n",
       "      <td>0.718</td>\n",
       "      <td>1</td>\n",
       "      <td>0.423313</td>\n",
       "    </tr>\n",
       "    <tr>\n",
       "      <th>12610</th>\n",
       "      <td>Indonesia</td>\n",
       "      <td>2019</td>\n",
       "      <td>Asia</td>\n",
       "      <td>1</td>\n",
       "      <td>police brutality</td>\n",
       "      <td>ignore</td>\n",
       "      <td>0.601</td>\n",
       "      <td>0.462</td>\n",
       "      <td>0.398</td>\n",
       "      <td>0.516</td>\n",
       "      <td>0.359</td>\n",
       "      <td>0.718</td>\n",
       "      <td>1</td>\n",
       "      <td>0.423313</td>\n",
       "    </tr>\n",
       "    <tr>\n",
       "      <th>12611</th>\n",
       "      <td>Indonesia</td>\n",
       "      <td>2019</td>\n",
       "      <td>Asia</td>\n",
       "      <td>1</td>\n",
       "      <td>political behavior, process</td>\n",
       "      <td>killings</td>\n",
       "      <td>0.601</td>\n",
       "      <td>0.462</td>\n",
       "      <td>0.398</td>\n",
       "      <td>0.516</td>\n",
       "      <td>0.359</td>\n",
       "      <td>0.718</td>\n",
       "      <td>1</td>\n",
       "      <td>0.423313</td>\n",
       "    </tr>\n",
       "    <tr>\n",
       "      <th>12612</th>\n",
       "      <td>Indonesia</td>\n",
       "      <td>2019</td>\n",
       "      <td>Asia</td>\n",
       "      <td>0</td>\n",
       "      <td>political behavior, process</td>\n",
       "      <td>crowd dispersal</td>\n",
       "      <td>0.601</td>\n",
       "      <td>0.462</td>\n",
       "      <td>0.398</td>\n",
       "      <td>0.516</td>\n",
       "      <td>0.359</td>\n",
       "      <td>0.718</td>\n",
       "      <td>1</td>\n",
       "      <td>0.423313</td>\n",
       "    </tr>\n",
       "    <tr>\n",
       "      <th>12613</th>\n",
       "      <td>Indonesia</td>\n",
       "      <td>2019</td>\n",
       "      <td>Asia</td>\n",
       "      <td>1</td>\n",
       "      <td>political behavior, process</td>\n",
       "      <td>crowd dispersal</td>\n",
       "      <td>0.601</td>\n",
       "      <td>0.462</td>\n",
       "      <td>0.398</td>\n",
       "      <td>0.516</td>\n",
       "      <td>0.359</td>\n",
       "      <td>0.718</td>\n",
       "      <td>1</td>\n",
       "      <td>0.423313</td>\n",
       "    </tr>\n",
       "  </tbody>\n",
       "</table>\n",
       "<p>11370 rows × 14 columns</p>\n",
       "</div>"
      ],
      "text/plain": [
       "         Country  Year         region  protesterviolence  \\\n",
       "0         Canada  1990  North America                  0   \n",
       "1         Canada  1990  North America                  0   \n",
       "2         Canada  1990  North America                  0   \n",
       "3         Canada  1990  North America                  1   \n",
       "4         Canada  1990  North America                  1   \n",
       "...          ...   ...            ...                ...   \n",
       "12609  Indonesia  2019           Asia                  1   \n",
       "12610  Indonesia  2019           Asia                  1   \n",
       "12611  Indonesia  2019           Asia                  1   \n",
       "12612  Indonesia  2019           Asia                  0   \n",
       "12613  Indonesia  2019           Asia                  1   \n",
       "\n",
       "                  protesterdemand1   stateresponse1  Electoral_Score  \\\n",
       "0      political behavior, process           ignore            0.834   \n",
       "1      political behavior, process           ignore            0.834   \n",
       "2      political behavior, process           ignore            0.834   \n",
       "3                  land farm issue     accomodation            0.834   \n",
       "4      political behavior, process  crowd dispersal            0.834   \n",
       "...                            ...              ...              ...   \n",
       "12609  political behavior, process         killings            0.601   \n",
       "12610             police brutality           ignore            0.601   \n",
       "12611  political behavior, process         killings            0.601   \n",
       "12612  political behavior, process  crowd dispersal            0.601   \n",
       "12613  political behavior, process  crowd dispersal            0.601   \n",
       "\n",
       "       Liberal_Score  Participatory_Score  Deliberative_Score  \\\n",
       "0              0.759                0.580               0.756   \n",
       "1              0.759                0.580               0.756   \n",
       "2              0.759                0.580               0.756   \n",
       "3              0.759                0.580               0.756   \n",
       "4              0.759                0.580               0.756   \n",
       "...              ...                  ...                 ...   \n",
       "12609          0.462                0.398               0.516   \n",
       "12610          0.462                0.398               0.516   \n",
       "12611          0.462                0.398               0.516   \n",
       "12612          0.462                0.398               0.516   \n",
       "12613          0.462                0.398               0.516   \n",
       "\n",
       "       Egalitarian_Score  HDI_Score  violenceStatus  predicted_prob  \n",
       "0                  0.719      0.850               0        0.299385  \n",
       "1                  0.719      0.850               0        0.299385  \n",
       "2                  0.719      0.850               0        0.299385  \n",
       "3                  0.719      0.850               1        0.299385  \n",
       "4                  0.719      0.850               1        0.299385  \n",
       "...                  ...        ...             ...             ...  \n",
       "12609              0.359      0.718               1        0.423313  \n",
       "12610              0.359      0.718               1        0.423313  \n",
       "12611              0.359      0.718               1        0.423313  \n",
       "12612              0.359      0.718               1        0.423313  \n",
       "12613              0.359      0.718               1        0.423313  \n",
       "\n",
       "[11370 rows x 14 columns]"
      ]
     },
     "execution_count": 147,
     "metadata": {},
     "output_type": "execute_result"
    }
   ],
   "source": [
    "df = df[df['Country'].isin(cnt_country['Country'])]\n",
    "df"
   ]
  },
  {
   "cell_type": "code",
   "execution_count": 148,
   "metadata": {},
   "outputs": [
    {
     "data": {
      "text/html": [
       "<div>\n",
       "<style scoped>\n",
       "    .dataframe tbody tr th:only-of-type {\n",
       "        vertical-align: middle;\n",
       "    }\n",
       "\n",
       "    .dataframe tbody tr th {\n",
       "        vertical-align: top;\n",
       "    }\n",
       "\n",
       "    .dataframe thead th {\n",
       "        text-align: right;\n",
       "    }\n",
       "</style>\n",
       "<table border=\"1\" class=\"dataframe\">\n",
       "  <thead>\n",
       "    <tr style=\"text-align: right;\">\n",
       "      <th></th>\n",
       "      <th>Country</th>\n",
       "      <th>Year</th>\n",
       "      <th>Count</th>\n",
       "    </tr>\n",
       "  </thead>\n",
       "  <tbody>\n",
       "    <tr>\n",
       "      <th>0</th>\n",
       "      <td>Albania</td>\n",
       "      <td>1990</td>\n",
       "      <td>5</td>\n",
       "    </tr>\n",
       "    <tr>\n",
       "      <th>1</th>\n",
       "      <td>Albania</td>\n",
       "      <td>1991</td>\n",
       "      <td>8</td>\n",
       "    </tr>\n",
       "    <tr>\n",
       "      <th>2</th>\n",
       "      <td>Albania</td>\n",
       "      <td>1992</td>\n",
       "      <td>3</td>\n",
       "    </tr>\n",
       "    <tr>\n",
       "      <th>3</th>\n",
       "      <td>Albania</td>\n",
       "      <td>1993</td>\n",
       "      <td>2</td>\n",
       "    </tr>\n",
       "    <tr>\n",
       "      <th>4</th>\n",
       "      <td>Albania</td>\n",
       "      <td>1994</td>\n",
       "      <td>1</td>\n",
       "    </tr>\n",
       "    <tr>\n",
       "      <th>...</th>\n",
       "      <td>...</td>\n",
       "      <td>...</td>\n",
       "      <td>...</td>\n",
       "    </tr>\n",
       "    <tr>\n",
       "      <th>1887</th>\n",
       "      <td>Zimbabwe</td>\n",
       "      <td>2015</td>\n",
       "      <td>3</td>\n",
       "    </tr>\n",
       "    <tr>\n",
       "      <th>1888</th>\n",
       "      <td>Zimbabwe</td>\n",
       "      <td>2016</td>\n",
       "      <td>17</td>\n",
       "    </tr>\n",
       "    <tr>\n",
       "      <th>1889</th>\n",
       "      <td>Zimbabwe</td>\n",
       "      <td>2017</td>\n",
       "      <td>5</td>\n",
       "    </tr>\n",
       "    <tr>\n",
       "      <th>1890</th>\n",
       "      <td>Zimbabwe</td>\n",
       "      <td>2018</td>\n",
       "      <td>5</td>\n",
       "    </tr>\n",
       "    <tr>\n",
       "      <th>1891</th>\n",
       "      <td>Zimbabwe</td>\n",
       "      <td>2019</td>\n",
       "      <td>10</td>\n",
       "    </tr>\n",
       "  </tbody>\n",
       "</table>\n",
       "<p>1892 rows × 3 columns</p>\n",
       "</div>"
      ],
      "text/plain": [
       "       Country  Year  Count\n",
       "0      Albania  1990      5\n",
       "1      Albania  1991      8\n",
       "2      Albania  1992      3\n",
       "3      Albania  1993      2\n",
       "4      Albania  1994      1\n",
       "...        ...   ...    ...\n",
       "1887  Zimbabwe  2015      3\n",
       "1888  Zimbabwe  2016     17\n",
       "1889  Zimbabwe  2017      5\n",
       "1890  Zimbabwe  2018      5\n",
       "1891  Zimbabwe  2019     10\n",
       "\n",
       "[1892 rows x 3 columns]"
      ]
     },
     "execution_count": 148,
     "metadata": {},
     "output_type": "execute_result"
    }
   ],
   "source": [
    "gr = df.groupby(['Country', 'Year'])['Country'].size().reset_index(name='Count')\n",
    "gr"
   ]
  },
  {
   "cell_type": "code",
   "execution_count": 157,
   "metadata": {},
   "outputs": [
    {
     "data": {
      "text/html": [
       "<div>\n",
       "<style scoped>\n",
       "    .dataframe tbody tr th:only-of-type {\n",
       "        vertical-align: middle;\n",
       "    }\n",
       "\n",
       "    .dataframe tbody tr th {\n",
       "        vertical-align: top;\n",
       "    }\n",
       "\n",
       "    .dataframe thead th {\n",
       "        text-align: right;\n",
       "    }\n",
       "</style>\n",
       "<table border=\"1\" class=\"dataframe\">\n",
       "  <thead>\n",
       "    <tr style=\"text-align: right;\">\n",
       "      <th></th>\n",
       "      <th>Country</th>\n",
       "      <th>Count</th>\n",
       "    </tr>\n",
       "  </thead>\n",
       "  <tbody>\n",
       "    <tr>\n",
       "      <th>0</th>\n",
       "      <td>Albania</td>\n",
       "      <td>5.133333</td>\n",
       "    </tr>\n",
       "    <tr>\n",
       "      <th>1</th>\n",
       "      <td>Algeria</td>\n",
       "      <td>7.500000</td>\n",
       "    </tr>\n",
       "    <tr>\n",
       "      <th>2</th>\n",
       "      <td>Argentina</td>\n",
       "      <td>4.185185</td>\n",
       "    </tr>\n",
       "    <tr>\n",
       "      <th>3</th>\n",
       "      <td>Armenia</td>\n",
       "      <td>3.851852</td>\n",
       "    </tr>\n",
       "    <tr>\n",
       "      <th>4</th>\n",
       "      <td>Azerbaijan</td>\n",
       "      <td>5.434783</td>\n",
       "    </tr>\n",
       "    <tr>\n",
       "      <th>...</th>\n",
       "      <td>...</td>\n",
       "      <td>...</td>\n",
       "    </tr>\n",
       "    <tr>\n",
       "      <th>76</th>\n",
       "      <td>United Kingdom</td>\n",
       "      <td>19.133333</td>\n",
       "    </tr>\n",
       "    <tr>\n",
       "      <th>77</th>\n",
       "      <td>Uruguay</td>\n",
       "      <td>3.090909</td>\n",
       "    </tr>\n",
       "    <tr>\n",
       "      <th>78</th>\n",
       "      <td>Yemen</td>\n",
       "      <td>7.136364</td>\n",
       "    </tr>\n",
       "    <tr>\n",
       "      <th>79</th>\n",
       "      <td>Zambia</td>\n",
       "      <td>3.518519</td>\n",
       "    </tr>\n",
       "    <tr>\n",
       "      <th>80</th>\n",
       "      <td>Zimbabwe</td>\n",
       "      <td>4.259259</td>\n",
       "    </tr>\n",
       "  </tbody>\n",
       "</table>\n",
       "<p>81 rows × 2 columns</p>\n",
       "</div>"
      ],
      "text/plain": [
       "           Country      Count\n",
       "0          Albania   5.133333\n",
       "1          Algeria   7.500000\n",
       "2        Argentina   4.185185\n",
       "3          Armenia   3.851852\n",
       "4       Azerbaijan   5.434783\n",
       "..             ...        ...\n",
       "76  United Kingdom  19.133333\n",
       "77         Uruguay   3.090909\n",
       "78           Yemen   7.136364\n",
       "79          Zambia   3.518519\n",
       "80        Zimbabwe   4.259259\n",
       "\n",
       "[81 rows x 2 columns]"
      ]
     },
     "execution_count": 157,
     "metadata": {},
     "output_type": "execute_result"
    }
   ],
   "source": [
    "mean_in_country = gr.groupby('Country')['Count'].mean().reset_index()\n",
    "mean_in_country"
   ]
  },
  {
   "cell_type": "code",
   "execution_count": 158,
   "metadata": {},
   "outputs": [
    {
     "data": {
      "application/vnd.plotly.v1+json": {
       "config": {
        "linkText": "Export to plot.ly",
        "plotlyServerURL": "https://plot.ly",
        "showLink": false
       },
       "data": [
        {
         "alignmentgroup": "True",
         "hovertemplate": "Country=%{x}<br>Count=%{y}<extra></extra>",
         "legendgroup": "",
         "marker": {
          "color": "#636efa",
          "pattern": {
           "shape": ""
          }
         },
         "name": "",
         "offsetgroup": "",
         "orientation": "v",
         "showlegend": false,
         "textposition": "auto",
         "type": "bar",
         "x": [
          "Albania",
          "Algeria",
          "Argentina",
          "Armenia",
          "Azerbaijan",
          "Bangladesh",
          "Belarus",
          "Benin",
          "Brazil",
          "Bulgaria",
          "Burkina Faso",
          "Burundi",
          "Cambodia",
          "Cameroon",
          "Canada",
          "Central African Republic",
          "Chile",
          "China",
          "Colombia",
          "Comoros",
          "Cuba",
          "Cyprus",
          "Dominican Republic",
          "Ecuador",
          "Egypt",
          "El Salvador",
          "France",
          "Georgia",
          "Germany",
          "Ghana",
          "Greece",
          "Guatemala",
          "Guinea",
          "Haiti",
          "Honduras",
          "Hungary",
          "India",
          "Indonesia",
          "Iraq",
          "Ireland",
          "Italy",
          "Japan",
          "Kazakhstan",
          "Kenya",
          "Kyrgyzstan",
          "Latvia",
          "Lebanon",
          "Liberia",
          "Madagascar",
          "Malawi",
          "Malaysia",
          "Mali",
          "Mauritania",
          "Mexico",
          "Mongolia",
          "Mozambique",
          "Namibia",
          "Nepal",
          "Nicaragua",
          "Niger",
          "Nigeria",
          "Pakistan",
          "Paraguay",
          "Peru",
          "Philippines",
          "Poland",
          "Romania",
          "South Africa",
          "Spain",
          "Sri Lanka",
          "Sudan",
          "Suriname",
          "Thailand",
          "Togo",
          "Uganda",
          "Ukraine",
          "United Kingdom",
          "Uruguay",
          "Yemen",
          "Zambia",
          "Zimbabwe"
         ],
         "xaxis": "x",
         "y": [
          5.133333333333334,
          7.5,
          4.185185185185185,
          3.8518518518518516,
          5.434782608695652,
          12.518518518518519,
          3.380952380952381,
          3.1052631578947367,
          7.433333333333334,
          5.391304347826087,
          3.7222222222222223,
          5.157894736842105,
          2.789473684210526,
          3.0526315789473686,
          2.260869565217391,
          2.652173913043478,
          5.7,
          11.285714285714286,
          4.793103448275862,
          4.2105263157894735,
          12.375,
          7.111111111111111,
          3.8333333333333335,
          5.75,
          6.3,
          2.9411764705882355,
          18.033333333333335,
          2.5652173913043477,
          12.066666666666666,
          3.25,
          10.366666666666667,
          4.44,
          5.2631578947368425,
          4.206896551724138,
          4.035714285714286,
          3.0869565217391304,
          7.620689655172414,
          5.066666666666666,
          5.545454545454546,
          17.958333333333332,
          5.724137931034483,
          3.0526315789473686,
          3.4,
          12.5,
          7.666666666666667,
          5,
          5.761904761904762,
          3.090909090909091,
          5.55,
          2.782608695652174,
          5.653846153846154,
          2.65,
          3.857142857142857,
          5,
          2.7777777777777777,
          3.125,
          10.227272727272727,
          7.241379310344827,
          3.2962962962962963,
          4.608695652173913,
          7.809523809523809,
          6.0344827586206895,
          2.64,
          5.433333333333334,
          2.782608695652174,
          4.6923076923076925,
          9.125,
          6.0344827586206895,
          5.964285714285714,
          3.5238095238095237,
          5.818181818181818,
          3,
          9.222222222222221,
          4.086956521739131,
          3,
          7.4,
          19.133333333333333,
          3.090909090909091,
          7.136363636363637,
          3.5185185185185186,
          4.2592592592592595
         ],
         "yaxis": "y"
        }
       ],
       "layout": {
        "barmode": "relative",
        "legend": {
         "tracegroupgap": 0
        },
        "margin": {
         "t": 60
        },
        "template": {
         "data": {
          "bar": [
           {
            "error_x": {
             "color": "#2a3f5f"
            },
            "error_y": {
             "color": "#2a3f5f"
            },
            "marker": {
             "line": {
              "color": "#E5ECF6",
              "width": 0.5
             },
             "pattern": {
              "fillmode": "overlay",
              "size": 10,
              "solidity": 0.2
             }
            },
            "type": "bar"
           }
          ],
          "barpolar": [
           {
            "marker": {
             "line": {
              "color": "#E5ECF6",
              "width": 0.5
             },
             "pattern": {
              "fillmode": "overlay",
              "size": 10,
              "solidity": 0.2
             }
            },
            "type": "barpolar"
           }
          ],
          "carpet": [
           {
            "aaxis": {
             "endlinecolor": "#2a3f5f",
             "gridcolor": "white",
             "linecolor": "white",
             "minorgridcolor": "white",
             "startlinecolor": "#2a3f5f"
            },
            "baxis": {
             "endlinecolor": "#2a3f5f",
             "gridcolor": "white",
             "linecolor": "white",
             "minorgridcolor": "white",
             "startlinecolor": "#2a3f5f"
            },
            "type": "carpet"
           }
          ],
          "choropleth": [
           {
            "colorbar": {
             "outlinewidth": 0,
             "ticks": ""
            },
            "type": "choropleth"
           }
          ],
          "contour": [
           {
            "colorbar": {
             "outlinewidth": 0,
             "ticks": ""
            },
            "colorscale": [
             [
              0,
              "#0d0887"
             ],
             [
              0.1111111111111111,
              "#46039f"
             ],
             [
              0.2222222222222222,
              "#7201a8"
             ],
             [
              0.3333333333333333,
              "#9c179e"
             ],
             [
              0.4444444444444444,
              "#bd3786"
             ],
             [
              0.5555555555555556,
              "#d8576b"
             ],
             [
              0.6666666666666666,
              "#ed7953"
             ],
             [
              0.7777777777777778,
              "#fb9f3a"
             ],
             [
              0.8888888888888888,
              "#fdca26"
             ],
             [
              1,
              "#f0f921"
             ]
            ],
            "type": "contour"
           }
          ],
          "contourcarpet": [
           {
            "colorbar": {
             "outlinewidth": 0,
             "ticks": ""
            },
            "type": "contourcarpet"
           }
          ],
          "heatmap": [
           {
            "colorbar": {
             "outlinewidth": 0,
             "ticks": ""
            },
            "colorscale": [
             [
              0,
              "#0d0887"
             ],
             [
              0.1111111111111111,
              "#46039f"
             ],
             [
              0.2222222222222222,
              "#7201a8"
             ],
             [
              0.3333333333333333,
              "#9c179e"
             ],
             [
              0.4444444444444444,
              "#bd3786"
             ],
             [
              0.5555555555555556,
              "#d8576b"
             ],
             [
              0.6666666666666666,
              "#ed7953"
             ],
             [
              0.7777777777777778,
              "#fb9f3a"
             ],
             [
              0.8888888888888888,
              "#fdca26"
             ],
             [
              1,
              "#f0f921"
             ]
            ],
            "type": "heatmap"
           }
          ],
          "heatmapgl": [
           {
            "colorbar": {
             "outlinewidth": 0,
             "ticks": ""
            },
            "colorscale": [
             [
              0,
              "#0d0887"
             ],
             [
              0.1111111111111111,
              "#46039f"
             ],
             [
              0.2222222222222222,
              "#7201a8"
             ],
             [
              0.3333333333333333,
              "#9c179e"
             ],
             [
              0.4444444444444444,
              "#bd3786"
             ],
             [
              0.5555555555555556,
              "#d8576b"
             ],
             [
              0.6666666666666666,
              "#ed7953"
             ],
             [
              0.7777777777777778,
              "#fb9f3a"
             ],
             [
              0.8888888888888888,
              "#fdca26"
             ],
             [
              1,
              "#f0f921"
             ]
            ],
            "type": "heatmapgl"
           }
          ],
          "histogram": [
           {
            "marker": {
             "pattern": {
              "fillmode": "overlay",
              "size": 10,
              "solidity": 0.2
             }
            },
            "type": "histogram"
           }
          ],
          "histogram2d": [
           {
            "colorbar": {
             "outlinewidth": 0,
             "ticks": ""
            },
            "colorscale": [
             [
              0,
              "#0d0887"
             ],
             [
              0.1111111111111111,
              "#46039f"
             ],
             [
              0.2222222222222222,
              "#7201a8"
             ],
             [
              0.3333333333333333,
              "#9c179e"
             ],
             [
              0.4444444444444444,
              "#bd3786"
             ],
             [
              0.5555555555555556,
              "#d8576b"
             ],
             [
              0.6666666666666666,
              "#ed7953"
             ],
             [
              0.7777777777777778,
              "#fb9f3a"
             ],
             [
              0.8888888888888888,
              "#fdca26"
             ],
             [
              1,
              "#f0f921"
             ]
            ],
            "type": "histogram2d"
           }
          ],
          "histogram2dcontour": [
           {
            "colorbar": {
             "outlinewidth": 0,
             "ticks": ""
            },
            "colorscale": [
             [
              0,
              "#0d0887"
             ],
             [
              0.1111111111111111,
              "#46039f"
             ],
             [
              0.2222222222222222,
              "#7201a8"
             ],
             [
              0.3333333333333333,
              "#9c179e"
             ],
             [
              0.4444444444444444,
              "#bd3786"
             ],
             [
              0.5555555555555556,
              "#d8576b"
             ],
             [
              0.6666666666666666,
              "#ed7953"
             ],
             [
              0.7777777777777778,
              "#fb9f3a"
             ],
             [
              0.8888888888888888,
              "#fdca26"
             ],
             [
              1,
              "#f0f921"
             ]
            ],
            "type": "histogram2dcontour"
           }
          ],
          "mesh3d": [
           {
            "colorbar": {
             "outlinewidth": 0,
             "ticks": ""
            },
            "type": "mesh3d"
           }
          ],
          "parcoords": [
           {
            "line": {
             "colorbar": {
              "outlinewidth": 0,
              "ticks": ""
             }
            },
            "type": "parcoords"
           }
          ],
          "pie": [
           {
            "automargin": true,
            "type": "pie"
           }
          ],
          "scatter": [
           {
            "fillpattern": {
             "fillmode": "overlay",
             "size": 10,
             "solidity": 0.2
            },
            "type": "scatter"
           }
          ],
          "scatter3d": [
           {
            "line": {
             "colorbar": {
              "outlinewidth": 0,
              "ticks": ""
             }
            },
            "marker": {
             "colorbar": {
              "outlinewidth": 0,
              "ticks": ""
             }
            },
            "type": "scatter3d"
           }
          ],
          "scattercarpet": [
           {
            "marker": {
             "colorbar": {
              "outlinewidth": 0,
              "ticks": ""
             }
            },
            "type": "scattercarpet"
           }
          ],
          "scattergeo": [
           {
            "marker": {
             "colorbar": {
              "outlinewidth": 0,
              "ticks": ""
             }
            },
            "type": "scattergeo"
           }
          ],
          "scattergl": [
           {
            "marker": {
             "colorbar": {
              "outlinewidth": 0,
              "ticks": ""
             }
            },
            "type": "scattergl"
           }
          ],
          "scattermapbox": [
           {
            "marker": {
             "colorbar": {
              "outlinewidth": 0,
              "ticks": ""
             }
            },
            "type": "scattermapbox"
           }
          ],
          "scatterpolar": [
           {
            "marker": {
             "colorbar": {
              "outlinewidth": 0,
              "ticks": ""
             }
            },
            "type": "scatterpolar"
           }
          ],
          "scatterpolargl": [
           {
            "marker": {
             "colorbar": {
              "outlinewidth": 0,
              "ticks": ""
             }
            },
            "type": "scatterpolargl"
           }
          ],
          "scatterternary": [
           {
            "marker": {
             "colorbar": {
              "outlinewidth": 0,
              "ticks": ""
             }
            },
            "type": "scatterternary"
           }
          ],
          "surface": [
           {
            "colorbar": {
             "outlinewidth": 0,
             "ticks": ""
            },
            "colorscale": [
             [
              0,
              "#0d0887"
             ],
             [
              0.1111111111111111,
              "#46039f"
             ],
             [
              0.2222222222222222,
              "#7201a8"
             ],
             [
              0.3333333333333333,
              "#9c179e"
             ],
             [
              0.4444444444444444,
              "#bd3786"
             ],
             [
              0.5555555555555556,
              "#d8576b"
             ],
             [
              0.6666666666666666,
              "#ed7953"
             ],
             [
              0.7777777777777778,
              "#fb9f3a"
             ],
             [
              0.8888888888888888,
              "#fdca26"
             ],
             [
              1,
              "#f0f921"
             ]
            ],
            "type": "surface"
           }
          ],
          "table": [
           {
            "cells": {
             "fill": {
              "color": "#EBF0F8"
             },
             "line": {
              "color": "white"
             }
            },
            "header": {
             "fill": {
              "color": "#C8D4E3"
             },
             "line": {
              "color": "white"
             }
            },
            "type": "table"
           }
          ]
         },
         "layout": {
          "annotationdefaults": {
           "arrowcolor": "#2a3f5f",
           "arrowhead": 0,
           "arrowwidth": 1
          },
          "autotypenumbers": "strict",
          "coloraxis": {
           "colorbar": {
            "outlinewidth": 0,
            "ticks": ""
           }
          },
          "colorscale": {
           "diverging": [
            [
             0,
             "#8e0152"
            ],
            [
             0.1,
             "#c51b7d"
            ],
            [
             0.2,
             "#de77ae"
            ],
            [
             0.3,
             "#f1b6da"
            ],
            [
             0.4,
             "#fde0ef"
            ],
            [
             0.5,
             "#f7f7f7"
            ],
            [
             0.6,
             "#e6f5d0"
            ],
            [
             0.7,
             "#b8e186"
            ],
            [
             0.8,
             "#7fbc41"
            ],
            [
             0.9,
             "#4d9221"
            ],
            [
             1,
             "#276419"
            ]
           ],
           "sequential": [
            [
             0,
             "#0d0887"
            ],
            [
             0.1111111111111111,
             "#46039f"
            ],
            [
             0.2222222222222222,
             "#7201a8"
            ],
            [
             0.3333333333333333,
             "#9c179e"
            ],
            [
             0.4444444444444444,
             "#bd3786"
            ],
            [
             0.5555555555555556,
             "#d8576b"
            ],
            [
             0.6666666666666666,
             "#ed7953"
            ],
            [
             0.7777777777777778,
             "#fb9f3a"
            ],
            [
             0.8888888888888888,
             "#fdca26"
            ],
            [
             1,
             "#f0f921"
            ]
           ],
           "sequentialminus": [
            [
             0,
             "#0d0887"
            ],
            [
             0.1111111111111111,
             "#46039f"
            ],
            [
             0.2222222222222222,
             "#7201a8"
            ],
            [
             0.3333333333333333,
             "#9c179e"
            ],
            [
             0.4444444444444444,
             "#bd3786"
            ],
            [
             0.5555555555555556,
             "#d8576b"
            ],
            [
             0.6666666666666666,
             "#ed7953"
            ],
            [
             0.7777777777777778,
             "#fb9f3a"
            ],
            [
             0.8888888888888888,
             "#fdca26"
            ],
            [
             1,
             "#f0f921"
            ]
           ]
          },
          "colorway": [
           "#636efa",
           "#EF553B",
           "#00cc96",
           "#ab63fa",
           "#FFA15A",
           "#19d3f3",
           "#FF6692",
           "#B6E880",
           "#FF97FF",
           "#FECB52"
          ],
          "font": {
           "color": "#2a3f5f"
          },
          "geo": {
           "bgcolor": "white",
           "lakecolor": "white",
           "landcolor": "#E5ECF6",
           "showlakes": true,
           "showland": true,
           "subunitcolor": "white"
          },
          "hoverlabel": {
           "align": "left"
          },
          "hovermode": "closest",
          "mapbox": {
           "style": "light"
          },
          "paper_bgcolor": "white",
          "plot_bgcolor": "#E5ECF6",
          "polar": {
           "angularaxis": {
            "gridcolor": "white",
            "linecolor": "white",
            "ticks": ""
           },
           "bgcolor": "#E5ECF6",
           "radialaxis": {
            "gridcolor": "white",
            "linecolor": "white",
            "ticks": ""
           }
          },
          "scene": {
           "xaxis": {
            "backgroundcolor": "#E5ECF6",
            "gridcolor": "white",
            "gridwidth": 2,
            "linecolor": "white",
            "showbackground": true,
            "ticks": "",
            "zerolinecolor": "white"
           },
           "yaxis": {
            "backgroundcolor": "#E5ECF6",
            "gridcolor": "white",
            "gridwidth": 2,
            "linecolor": "white",
            "showbackground": true,
            "ticks": "",
            "zerolinecolor": "white"
           },
           "zaxis": {
            "backgroundcolor": "#E5ECF6",
            "gridcolor": "white",
            "gridwidth": 2,
            "linecolor": "white",
            "showbackground": true,
            "ticks": "",
            "zerolinecolor": "white"
           }
          },
          "shapedefaults": {
           "line": {
            "color": "#2a3f5f"
           }
          },
          "ternary": {
           "aaxis": {
            "gridcolor": "white",
            "linecolor": "white",
            "ticks": ""
           },
           "baxis": {
            "gridcolor": "white",
            "linecolor": "white",
            "ticks": ""
           },
           "bgcolor": "#E5ECF6",
           "caxis": {
            "gridcolor": "white",
            "linecolor": "white",
            "ticks": ""
           }
          },
          "title": {
           "x": 0.05
          },
          "xaxis": {
           "automargin": true,
           "gridcolor": "white",
           "linecolor": "white",
           "ticks": "",
           "title": {
            "standoff": 15
           },
           "zerolinecolor": "white",
           "zerolinewidth": 2
          },
          "yaxis": {
           "automargin": true,
           "gridcolor": "white",
           "linecolor": "white",
           "ticks": "",
           "title": {
            "standoff": 15
           },
           "zerolinecolor": "white",
           "zerolinewidth": 2
          }
         }
        },
        "xaxis": {
         "anchor": "y",
         "domain": [
          0,
          1
         ],
         "title": {
          "text": "Country"
         }
        },
        "yaxis": {
         "anchor": "x",
         "domain": [
          0,
          1
         ],
         "title": {
          "text": "Count"
         }
        }
       }
      },
      "text/html": [
       "<div>                            <div id=\"a6070227-30d1-4013-b1ce-fc4cd12d472c\" class=\"plotly-graph-div\" style=\"height:525px; width:100%;\"></div>            <script type=\"text/javascript\">                require([\"plotly\"], function(Plotly) {                    window.PLOTLYENV=window.PLOTLYENV || {};                                    if (document.getElementById(\"a6070227-30d1-4013-b1ce-fc4cd12d472c\")) {                    Plotly.newPlot(                        \"a6070227-30d1-4013-b1ce-fc4cd12d472c\",                        [{\"alignmentgroup\":\"True\",\"hovertemplate\":\"Country=%{x}\\u003cbr\\u003eCount=%{y}\\u003cextra\\u003e\\u003c\\u002fextra\\u003e\",\"legendgroup\":\"\",\"marker\":{\"color\":\"#636efa\",\"pattern\":{\"shape\":\"\"}},\"name\":\"\",\"offsetgroup\":\"\",\"orientation\":\"v\",\"showlegend\":false,\"textposition\":\"auto\",\"x\":[\"Albania\",\"Algeria\",\"Argentina\",\"Armenia\",\"Azerbaijan\",\"Bangladesh\",\"Belarus\",\"Benin\",\"Brazil\",\"Bulgaria\",\"Burkina Faso\",\"Burundi\",\"Cambodia\",\"Cameroon\",\"Canada\",\"Central African Republic\",\"Chile\",\"China\",\"Colombia\",\"Comoros\",\"Cuba\",\"Cyprus\",\"Dominican Republic\",\"Ecuador\",\"Egypt\",\"El Salvador\",\"France\",\"Georgia\",\"Germany\",\"Ghana\",\"Greece\",\"Guatemala\",\"Guinea\",\"Haiti\",\"Honduras\",\"Hungary\",\"India\",\"Indonesia\",\"Iraq\",\"Ireland\",\"Italy\",\"Japan\",\"Kazakhstan\",\"Kenya\",\"Kyrgyzstan\",\"Latvia\",\"Lebanon\",\"Liberia\",\"Madagascar\",\"Malawi\",\"Malaysia\",\"Mali\",\"Mauritania\",\"Mexico\",\"Mongolia\",\"Mozambique\",\"Namibia\",\"Nepal\",\"Nicaragua\",\"Niger\",\"Nigeria\",\"Pakistan\",\"Paraguay\",\"Peru\",\"Philippines\",\"Poland\",\"Romania\",\"South Africa\",\"Spain\",\"Sri Lanka\",\"Sudan\",\"Suriname\",\"Thailand\",\"Togo\",\"Uganda\",\"Ukraine\",\"United Kingdom\",\"Uruguay\",\"Yemen\",\"Zambia\",\"Zimbabwe\"],\"xaxis\":\"x\",\"y\":[5.133333333333334,7.5,4.185185185185185,3.8518518518518516,5.434782608695652,12.518518518518519,3.380952380952381,3.1052631578947367,7.433333333333334,5.391304347826087,3.7222222222222223,5.157894736842105,2.789473684210526,3.0526315789473686,2.260869565217391,2.652173913043478,5.7,11.285714285714286,4.793103448275862,4.2105263157894735,12.375,7.111111111111111,3.8333333333333335,5.75,6.3,2.9411764705882355,18.033333333333335,2.5652173913043477,12.066666666666666,3.25,10.366666666666667,4.44,5.2631578947368425,4.206896551724138,4.035714285714286,3.0869565217391304,7.620689655172414,5.066666666666666,5.545454545454546,17.958333333333332,5.724137931034483,3.0526315789473686,3.4,12.5,7.666666666666667,5.0,5.761904761904762,3.090909090909091,5.55,2.782608695652174,5.653846153846154,2.65,3.857142857142857,5.0,2.7777777777777777,3.125,10.227272727272727,7.241379310344827,3.2962962962962963,4.608695652173913,7.809523809523809,6.0344827586206895,2.64,5.433333333333334,2.782608695652174,4.6923076923076925,9.125,6.0344827586206895,5.964285714285714,3.5238095238095237,5.818181818181818,3.0,9.222222222222221,4.086956521739131,3.0,7.4,19.133333333333333,3.090909090909091,7.136363636363637,3.5185185185185186,4.2592592592592595],\"yaxis\":\"y\",\"type\":\"bar\"}],                        {\"barmode\":\"relative\",\"legend\":{\"tracegroupgap\":0},\"margin\":{\"t\":60},\"template\":{\"data\":{\"barpolar\":[{\"marker\":{\"line\":{\"color\":\"#E5ECF6\",\"width\":0.5},\"pattern\":{\"fillmode\":\"overlay\",\"size\":10,\"solidity\":0.2}},\"type\":\"barpolar\"}],\"bar\":[{\"error_x\":{\"color\":\"#2a3f5f\"},\"error_y\":{\"color\":\"#2a3f5f\"},\"marker\":{\"line\":{\"color\":\"#E5ECF6\",\"width\":0.5},\"pattern\":{\"fillmode\":\"overlay\",\"size\":10,\"solidity\":0.2}},\"type\":\"bar\"}],\"carpet\":[{\"aaxis\":{\"endlinecolor\":\"#2a3f5f\",\"gridcolor\":\"white\",\"linecolor\":\"white\",\"minorgridcolor\":\"white\",\"startlinecolor\":\"#2a3f5f\"},\"baxis\":{\"endlinecolor\":\"#2a3f5f\",\"gridcolor\":\"white\",\"linecolor\":\"white\",\"minorgridcolor\":\"white\",\"startlinecolor\":\"#2a3f5f\"},\"type\":\"carpet\"}],\"choropleth\":[{\"colorbar\":{\"outlinewidth\":0,\"ticks\":\"\"},\"type\":\"choropleth\"}],\"contourcarpet\":[{\"colorbar\":{\"outlinewidth\":0,\"ticks\":\"\"},\"type\":\"contourcarpet\"}],\"contour\":[{\"colorbar\":{\"outlinewidth\":0,\"ticks\":\"\"},\"colorscale\":[[0.0,\"#0d0887\"],[0.1111111111111111,\"#46039f\"],[0.2222222222222222,\"#7201a8\"],[0.3333333333333333,\"#9c179e\"],[0.4444444444444444,\"#bd3786\"],[0.5555555555555556,\"#d8576b\"],[0.6666666666666666,\"#ed7953\"],[0.7777777777777778,\"#fb9f3a\"],[0.8888888888888888,\"#fdca26\"],[1.0,\"#f0f921\"]],\"type\":\"contour\"}],\"heatmapgl\":[{\"colorbar\":{\"outlinewidth\":0,\"ticks\":\"\"},\"colorscale\":[[0.0,\"#0d0887\"],[0.1111111111111111,\"#46039f\"],[0.2222222222222222,\"#7201a8\"],[0.3333333333333333,\"#9c179e\"],[0.4444444444444444,\"#bd3786\"],[0.5555555555555556,\"#d8576b\"],[0.6666666666666666,\"#ed7953\"],[0.7777777777777778,\"#fb9f3a\"],[0.8888888888888888,\"#fdca26\"],[1.0,\"#f0f921\"]],\"type\":\"heatmapgl\"}],\"heatmap\":[{\"colorbar\":{\"outlinewidth\":0,\"ticks\":\"\"},\"colorscale\":[[0.0,\"#0d0887\"],[0.1111111111111111,\"#46039f\"],[0.2222222222222222,\"#7201a8\"],[0.3333333333333333,\"#9c179e\"],[0.4444444444444444,\"#bd3786\"],[0.5555555555555556,\"#d8576b\"],[0.6666666666666666,\"#ed7953\"],[0.7777777777777778,\"#fb9f3a\"],[0.8888888888888888,\"#fdca26\"],[1.0,\"#f0f921\"]],\"type\":\"heatmap\"}],\"histogram2dcontour\":[{\"colorbar\":{\"outlinewidth\":0,\"ticks\":\"\"},\"colorscale\":[[0.0,\"#0d0887\"],[0.1111111111111111,\"#46039f\"],[0.2222222222222222,\"#7201a8\"],[0.3333333333333333,\"#9c179e\"],[0.4444444444444444,\"#bd3786\"],[0.5555555555555556,\"#d8576b\"],[0.6666666666666666,\"#ed7953\"],[0.7777777777777778,\"#fb9f3a\"],[0.8888888888888888,\"#fdca26\"],[1.0,\"#f0f921\"]],\"type\":\"histogram2dcontour\"}],\"histogram2d\":[{\"colorbar\":{\"outlinewidth\":0,\"ticks\":\"\"},\"colorscale\":[[0.0,\"#0d0887\"],[0.1111111111111111,\"#46039f\"],[0.2222222222222222,\"#7201a8\"],[0.3333333333333333,\"#9c179e\"],[0.4444444444444444,\"#bd3786\"],[0.5555555555555556,\"#d8576b\"],[0.6666666666666666,\"#ed7953\"],[0.7777777777777778,\"#fb9f3a\"],[0.8888888888888888,\"#fdca26\"],[1.0,\"#f0f921\"]],\"type\":\"histogram2d\"}],\"histogram\":[{\"marker\":{\"pattern\":{\"fillmode\":\"overlay\",\"size\":10,\"solidity\":0.2}},\"type\":\"histogram\"}],\"mesh3d\":[{\"colorbar\":{\"outlinewidth\":0,\"ticks\":\"\"},\"type\":\"mesh3d\"}],\"parcoords\":[{\"line\":{\"colorbar\":{\"outlinewidth\":0,\"ticks\":\"\"}},\"type\":\"parcoords\"}],\"pie\":[{\"automargin\":true,\"type\":\"pie\"}],\"scatter3d\":[{\"line\":{\"colorbar\":{\"outlinewidth\":0,\"ticks\":\"\"}},\"marker\":{\"colorbar\":{\"outlinewidth\":0,\"ticks\":\"\"}},\"type\":\"scatter3d\"}],\"scattercarpet\":[{\"marker\":{\"colorbar\":{\"outlinewidth\":0,\"ticks\":\"\"}},\"type\":\"scattercarpet\"}],\"scattergeo\":[{\"marker\":{\"colorbar\":{\"outlinewidth\":0,\"ticks\":\"\"}},\"type\":\"scattergeo\"}],\"scattergl\":[{\"marker\":{\"colorbar\":{\"outlinewidth\":0,\"ticks\":\"\"}},\"type\":\"scattergl\"}],\"scattermapbox\":[{\"marker\":{\"colorbar\":{\"outlinewidth\":0,\"ticks\":\"\"}},\"type\":\"scattermapbox\"}],\"scatterpolargl\":[{\"marker\":{\"colorbar\":{\"outlinewidth\":0,\"ticks\":\"\"}},\"type\":\"scatterpolargl\"}],\"scatterpolar\":[{\"marker\":{\"colorbar\":{\"outlinewidth\":0,\"ticks\":\"\"}},\"type\":\"scatterpolar\"}],\"scatter\":[{\"fillpattern\":{\"fillmode\":\"overlay\",\"size\":10,\"solidity\":0.2},\"type\":\"scatter\"}],\"scatterternary\":[{\"marker\":{\"colorbar\":{\"outlinewidth\":0,\"ticks\":\"\"}},\"type\":\"scatterternary\"}],\"surface\":[{\"colorbar\":{\"outlinewidth\":0,\"ticks\":\"\"},\"colorscale\":[[0.0,\"#0d0887\"],[0.1111111111111111,\"#46039f\"],[0.2222222222222222,\"#7201a8\"],[0.3333333333333333,\"#9c179e\"],[0.4444444444444444,\"#bd3786\"],[0.5555555555555556,\"#d8576b\"],[0.6666666666666666,\"#ed7953\"],[0.7777777777777778,\"#fb9f3a\"],[0.8888888888888888,\"#fdca26\"],[1.0,\"#f0f921\"]],\"type\":\"surface\"}],\"table\":[{\"cells\":{\"fill\":{\"color\":\"#EBF0F8\"},\"line\":{\"color\":\"white\"}},\"header\":{\"fill\":{\"color\":\"#C8D4E3\"},\"line\":{\"color\":\"white\"}},\"type\":\"table\"}]},\"layout\":{\"annotationdefaults\":{\"arrowcolor\":\"#2a3f5f\",\"arrowhead\":0,\"arrowwidth\":1},\"autotypenumbers\":\"strict\",\"coloraxis\":{\"colorbar\":{\"outlinewidth\":0,\"ticks\":\"\"}},\"colorscale\":{\"diverging\":[[0,\"#8e0152\"],[0.1,\"#c51b7d\"],[0.2,\"#de77ae\"],[0.3,\"#f1b6da\"],[0.4,\"#fde0ef\"],[0.5,\"#f7f7f7\"],[0.6,\"#e6f5d0\"],[0.7,\"#b8e186\"],[0.8,\"#7fbc41\"],[0.9,\"#4d9221\"],[1,\"#276419\"]],\"sequential\":[[0.0,\"#0d0887\"],[0.1111111111111111,\"#46039f\"],[0.2222222222222222,\"#7201a8\"],[0.3333333333333333,\"#9c179e\"],[0.4444444444444444,\"#bd3786\"],[0.5555555555555556,\"#d8576b\"],[0.6666666666666666,\"#ed7953\"],[0.7777777777777778,\"#fb9f3a\"],[0.8888888888888888,\"#fdca26\"],[1.0,\"#f0f921\"]],\"sequentialminus\":[[0.0,\"#0d0887\"],[0.1111111111111111,\"#46039f\"],[0.2222222222222222,\"#7201a8\"],[0.3333333333333333,\"#9c179e\"],[0.4444444444444444,\"#bd3786\"],[0.5555555555555556,\"#d8576b\"],[0.6666666666666666,\"#ed7953\"],[0.7777777777777778,\"#fb9f3a\"],[0.8888888888888888,\"#fdca26\"],[1.0,\"#f0f921\"]]},\"colorway\":[\"#636efa\",\"#EF553B\",\"#00cc96\",\"#ab63fa\",\"#FFA15A\",\"#19d3f3\",\"#FF6692\",\"#B6E880\",\"#FF97FF\",\"#FECB52\"],\"font\":{\"color\":\"#2a3f5f\"},\"geo\":{\"bgcolor\":\"white\",\"lakecolor\":\"white\",\"landcolor\":\"#E5ECF6\",\"showlakes\":true,\"showland\":true,\"subunitcolor\":\"white\"},\"hoverlabel\":{\"align\":\"left\"},\"hovermode\":\"closest\",\"mapbox\":{\"style\":\"light\"},\"paper_bgcolor\":\"white\",\"plot_bgcolor\":\"#E5ECF6\",\"polar\":{\"angularaxis\":{\"gridcolor\":\"white\",\"linecolor\":\"white\",\"ticks\":\"\"},\"bgcolor\":\"#E5ECF6\",\"radialaxis\":{\"gridcolor\":\"white\",\"linecolor\":\"white\",\"ticks\":\"\"}},\"scene\":{\"xaxis\":{\"backgroundcolor\":\"#E5ECF6\",\"gridcolor\":\"white\",\"gridwidth\":2,\"linecolor\":\"white\",\"showbackground\":true,\"ticks\":\"\",\"zerolinecolor\":\"white\"},\"yaxis\":{\"backgroundcolor\":\"#E5ECF6\",\"gridcolor\":\"white\",\"gridwidth\":2,\"linecolor\":\"white\",\"showbackground\":true,\"ticks\":\"\",\"zerolinecolor\":\"white\"},\"zaxis\":{\"backgroundcolor\":\"#E5ECF6\",\"gridcolor\":\"white\",\"gridwidth\":2,\"linecolor\":\"white\",\"showbackground\":true,\"ticks\":\"\",\"zerolinecolor\":\"white\"}},\"shapedefaults\":{\"line\":{\"color\":\"#2a3f5f\"}},\"ternary\":{\"aaxis\":{\"gridcolor\":\"white\",\"linecolor\":\"white\",\"ticks\":\"\"},\"baxis\":{\"gridcolor\":\"white\",\"linecolor\":\"white\",\"ticks\":\"\"},\"bgcolor\":\"#E5ECF6\",\"caxis\":{\"gridcolor\":\"white\",\"linecolor\":\"white\",\"ticks\":\"\"}},\"title\":{\"x\":0.05},\"xaxis\":{\"automargin\":true,\"gridcolor\":\"white\",\"linecolor\":\"white\",\"ticks\":\"\",\"title\":{\"standoff\":15},\"zerolinecolor\":\"white\",\"zerolinewidth\":2},\"yaxis\":{\"automargin\":true,\"gridcolor\":\"white\",\"linecolor\":\"white\",\"ticks\":\"\",\"title\":{\"standoff\":15},\"zerolinecolor\":\"white\",\"zerolinewidth\":2}}},\"xaxis\":{\"anchor\":\"y\",\"domain\":[0.0,1.0],\"title\":{\"text\":\"Country\"}},\"yaxis\":{\"anchor\":\"x\",\"domain\":[0.0,1.0],\"title\":{\"text\":\"Count\"}}},                        {\"responsive\": true}                    ).then(function(){\n",
       "                            \n",
       "var gd = document.getElementById('a6070227-30d1-4013-b1ce-fc4cd12d472c');\n",
       "var x = new MutationObserver(function (mutations, observer) {{\n",
       "        var display = window.getComputedStyle(gd).display;\n",
       "        if (!display || display === 'none') {{\n",
       "            console.log([gd, 'removed!']);\n",
       "            Plotly.purge(gd);\n",
       "            observer.disconnect();\n",
       "        }}\n",
       "}});\n",
       "\n",
       "// Listen for the removal of the full notebook cells\n",
       "var notebookContainer = gd.closest('#notebook-container');\n",
       "if (notebookContainer) {{\n",
       "    x.observe(notebookContainer, {childList: true});\n",
       "}}\n",
       "\n",
       "// Listen for the clearing of the current output cell\n",
       "var outputEl = gd.closest('.output');\n",
       "if (outputEl) {{\n",
       "    x.observe(outputEl, {childList: true});\n",
       "}}\n",
       "\n",
       "                        })                };                });            </script>        </div>"
      ]
     },
     "metadata": {},
     "output_type": "display_data"
    }
   ],
   "source": [
    "fig = px.bar(data_frame=mean_in_country, x='Country', y='Count')\n",
    "iplot(fig)"
   ]
  },
  {
   "cell_type": "code",
   "execution_count": null,
   "metadata": {},
   "outputs": [],
   "source": []
  }
 ],
 "metadata": {
  "kernelspec": {
   "display_name": "base",
   "language": "python",
   "name": "python3"
  },
  "language_info": {
   "codemirror_mode": {
    "name": "ipython",
    "version": 3
   },
   "file_extension": ".py",
   "mimetype": "text/x-python",
   "name": "python",
   "nbconvert_exporter": "python",
   "pygments_lexer": "ipython3",
   "version": "3.12.7"
  }
 },
 "nbformat": 4,
 "nbformat_minor": 2
}
